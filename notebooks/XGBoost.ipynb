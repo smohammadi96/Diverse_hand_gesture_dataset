{
 "cells": [
  {
   "cell_type": "code",
   "execution_count": 0,
   "metadata": {
    "colab": {},
    "colab_type": "code",
    "id": "079w02TlI87x"
   },
   "outputs": [],
   "source": [
    "import warnings\n",
    "import numpy as np\n",
    "import pandas as pd\n",
    "from datetime import datetime\n",
    "from sklearn.model_selection import RandomizedSearchCV, GridSearchCV\n",
    "from sklearn.metrics import roc_auc_score\n",
    "from sklearn.model_selection import StratifiedKFold\n",
    "from xgboost import XGBClassifier\n",
    "from sklearn.metrics import classification_report"
   ]
  },
  {
   "cell_type": "code",
   "execution_count": 0,
   "metadata": {
    "colab": {
     "base_uri": "https://localhost:8080/",
     "height": 128
    },
    "colab_type": "code",
    "id": "1DXtGk8wKhSj",
    "outputId": "92fa6d91-8c23-4f38-d78c-0c4a0a1dd09f"
   },
   "outputs": [
    {
     "name": "stdout",
     "output_type": "stream",
     "text": [
      "Go to this URL in a browser: https://accounts.google.com/o/oauth2/auth?client_id=947318989803-6bn6qk8qdgf4n4g3pfee6491hc0brc4i.apps.googleusercontent.com&redirect_uri=urn%3Aietf%3Awg%3Aoauth%3A2.0%3Aoob&scope=email%20https%3A%2F%2Fwww.googleapis.com%2Fauth%2Fdocs.test%20https%3A%2F%2Fwww.googleapis.com%2Fauth%2Fdrive%20https%3A%2F%2Fwww.googleapis.com%2Fauth%2Fdrive.photos.readonly%20https%3A%2F%2Fwww.googleapis.com%2Fauth%2Fpeopleapi.readonly&response_type=code\n",
      "\n",
      "Enter your authorization code:\n",
      "··········\n",
      "Mounted at /content/drive\n"
     ]
    }
   ],
   "source": [
    "from google.colab import drive\n",
    "drive.mount('/content/drive')"
   ]
  },
  {
   "cell_type": "code",
   "execution_count": 0,
   "metadata": {
    "colab": {},
    "colab_type": "code",
    "id": "0cV4qvIM0XZD"
   },
   "outputs": [],
   "source": [
    "X_train = \n",
    "y_train = \n",
    "X_test = \n",
    "y_test = "
   ]
  },
  {
   "cell_type": "code",
   "execution_count": 0,
   "metadata": {
    "colab": {},
    "colab_type": "code",
    "id": "ZqW7yEuJlQn0"
   },
   "outputs": [],
   "source": [
    "#--------------------- PCA ---------------------"
   ]
  },
  {
   "cell_type": "code",
   "execution_count": 0,
   "metadata": {
    "colab": {},
    "colab_type": "code",
    "id": "Yu75Np8GQibN"
   },
   "outputs": [],
   "source": [
    "from sklearn.impute import SimpleImputer\n",
    "imp = SimpleImputer(strategy=\"most_frequent\")\n",
    "\n",
    "imp.fit_transform(X_train)\n",
    "\n",
    "X_train = imp.transform(X_train)\n",
    "X_test = imp.transform(X_test)"
   ]
  },
  {
   "cell_type": "code",
   "execution_count": 0,
   "metadata": {
    "colab": {},
    "colab_type": "code",
    "id": "sBvlaiiFlUtq"
   },
   "outputs": [],
   "source": [
    "from sklearn.preprocessing import StandardScaler\n",
    "scaler = StandardScaler()\n",
    "# Fit on training set only.\n",
    "scaler.fit(X_train)\n",
    "# Apply transform to both the training set and the test set.\n",
    "X_train = scaler.transform(X_train)\n",
    "X_test = scaler.transform(X_test)"
   ]
  },
  {
   "cell_type": "code",
   "execution_count": 0,
   "metadata": {
    "colab": {},
    "colab_type": "code",
    "id": "ODiLrQTVlU0I"
   },
   "outputs": [],
   "source": [
    "from sklearn.decomposition import PCA\n",
    "# Make an instance of the Model\n",
    "pca = PCA(.95)"
   ]
  },
  {
   "cell_type": "code",
   "execution_count": 0,
   "metadata": {
    "colab": {
     "base_uri": "https://localhost:8080/",
     "height": 54
    },
    "colab_type": "code",
    "id": "IftUyjomPsMb",
    "outputId": "6fc81047-8fd2-4c1a-f7e8-f9ed24ee91b7"
   },
   "outputs": [
    {
     "data": {
      "text/plain": [
       "PCA(copy=True, iterated_power='auto', n_components=0.95, random_state=None,\n",
       "    svd_solver='auto', tol=0.0, whiten=False)"
      ]
     },
     "execution_count": 8,
     "metadata": {
      "tags": []
     },
     "output_type": "execute_result"
    }
   ],
   "source": [
    "pca.fit(X_train)"
   ]
  },
  {
   "cell_type": "code",
   "execution_count": 0,
   "metadata": {
    "colab": {},
    "colab_type": "code",
    "id": "kZPpJZB7Px0T"
   },
   "outputs": [],
   "source": [
    "X_train = pca.transform(X_train)\n",
    "X_test = pca.transform(X_test)"
   ]
  },
  {
   "cell_type": "code",
   "execution_count": 0,
   "metadata": {
    "colab": {},
    "colab_type": "code",
    "id": "K2XlUABJlS16"
   },
   "outputs": [],
   "source": [
    "#----------------------------------------------- Random Search ---------------------------------"
   ]
  },
  {
   "cell_type": "code",
   "execution_count": 0,
   "metadata": {
    "colab": {},
    "colab_type": "code",
    "id": "OPnG7ML6JDmF"
   },
   "outputs": [],
   "source": [
    "params = {\n",
    "        'learning_rate': [0.001, 0.005, 0.01, 0.05, 0.1, 0.2],\n",
    "        'n_estimators': [10, 100, 150, 200, 300, 400, 500, 600],\n",
    "        'min_child_weight': [1, 5, 10],\n",
    "        'gamma': [0.5, 1, 1.5, 2, 5],\n",
    "        'subsample': [0.6, 0.8, 1.0],\n",
    "        'colsample_bytree': [0.6, 0.8, 1.0],\n",
    "        'max_depth': [3, 4, 5, 6, 7, 8]\n",
    "        }"
   ]
  },
  {
   "cell_type": "code",
   "execution_count": 0,
   "metadata": {
    "colab": {},
    "colab_type": "code",
    "id": "iBb_ShocVYh5"
   },
   "outputs": [],
   "source": [
    "xgb = XGBClassifier(objective='multi:softmax', silent=True, num_class=10)"
   ]
  },
  {
   "cell_type": "code",
   "execution_count": 0,
   "metadata": {
    "colab": {},
    "colab_type": "code",
    "id": "WC6hRRUd4UtB"
   },
   "outputs": [],
   "source": [
    "folds = 5\n",
    "param_comb = 5\n",
    "\n",
    "skf = StratifiedKFold(n_splits=folds, shuffle = True, random_state = 1001)\n",
    "\n",
    "random_search = RandomizedSearchCV(xgb, param_distributions=params, n_iter=param_comb, scoring='accuracy', n_jobs=4, cv=skf.split(X_train,y_train), verbose=3, random_state=1001 )"
   ]
  },
  {
   "cell_type": "code",
   "execution_count": 0,
   "metadata": {
    "colab": {
     "base_uri": "https://localhost:8080/",
     "height": 442
    },
    "colab_type": "code",
    "id": "AI5t1Y3t4lXT",
    "outputId": "0384f02b-84e9-413d-d5b4-963034d94e86"
   },
   "outputs": [
    {
     "name": "stdout",
     "output_type": "stream",
     "text": [
      "Fitting 5 folds for each of 20 candidates, totalling 100 fits\n"
     ]
    },
    {
     "name": "stderr",
     "output_type": "stream",
     "text": [
      "[Parallel(n_jobs=4)]: Using backend LokyBackend with 4 concurrent workers.\n",
      "[Parallel(n_jobs=4)]: Done  24 tasks      | elapsed:  8.7min\n",
      "[Parallel(n_jobs=4)]: Done 100 out of 100 | elapsed: 31.2min finished\n"
     ]
    },
    {
     "data": {
      "text/plain": [
       "RandomizedSearchCV(cv=<generator object _BaseKFold.split at 0x7f4db9334af0>,\n",
       "                   error_score='raise-deprecating',\n",
       "                   estimator=XGBClassifier(base_score=0.5, booster='gbtree',\n",
       "                                           colsample_bylevel=1,\n",
       "                                           colsample_bynode=1,\n",
       "                                           colsample_bytree=1, gamma=0,\n",
       "                                           learning_rate=0.1, max_delta_step=0,\n",
       "                                           max_depth=3, min_child_weight=1,\n",
       "                                           missing=None, n_estimators=100,\n",
       "                                           n_jobs=1, nthread=None, num_cl...\n",
       "                   param_distributions={'colsample_bytree': [0.6, 0.8, 1.0],\n",
       "                                        'gamma': [0.5, 1, 1.5, 2, 5],\n",
       "                                        'learning_rate': [0.001, 0.005, 0.01,\n",
       "                                                          0.05, 0.1, 0.2],\n",
       "                                        'max_depth': [3, 4, 5, 6, 7, 8],\n",
       "                                        'min_child_weight': [1, 5, 10],\n",
       "                                        'n_estimators': [10, 100, 150, 200, 300,\n",
       "                                                         400, 500, 600],\n",
       "                                        'subsample': [0.6, 0.8, 1.0]},\n",
       "                   pre_dispatch='2*n_jobs', random_state=1001, refit=True,\n",
       "                   return_train_score=False, scoring='accuracy', verbose=3)"
      ]
     },
     "execution_count": 19,
     "metadata": {
      "tags": []
     },
     "output_type": "execute_result"
    }
   ],
   "source": [
    "random_search.fit(X_train, y_train)"
   ]
  },
  {
   "cell_type": "code",
   "execution_count": 0,
   "metadata": {
    "colab": {
     "base_uri": "https://localhost:8080/",
     "height": 1000
    },
    "colab_type": "code",
    "id": "4A-mlMxS4ojJ",
    "outputId": "fa5675c0-0ee8-42c6-b314-3dfdb6cffc2d"
   },
   "outputs": [
    {
     "name": "stdout",
     "output_type": "stream",
     "text": [
      "\n",
      " All results:\n",
      "{'mean_fit_time': array([102.22528801,  71.29785099, 160.93390679,   1.57802844,\n",
      "        75.66828938,  85.22415962,  46.64241157, 185.65601969,\n",
      "        64.59993424, 132.18343649,   2.31384516,  54.22586541,\n",
      "        56.22920346,  24.52400088,  66.2002924 ,  19.74697633,\n",
      "        42.26876397,  99.16706285,  59.55672936, 121.41194339]), 'std_fit_time': array([ 1.25343501,  0.86943178,  1.76694332,  0.17684624,  2.11517383,\n",
      "        1.36447319,  0.81260982,  2.58817364,  0.72009057,  1.8614107 ,\n",
      "        0.24150109,  0.50609508,  1.04684844,  0.23560922,  0.40828192,\n",
      "        0.25946039,  0.53091937,  0.79763715,  0.38293142, 31.42556603]), 'mean_score_time': array([0.06705537, 0.07347198, 0.04906259, 0.01538591, 0.03435445,\n",
      "       0.05553889, 0.03117046, 0.13532605, 0.07657762, 0.06254077,\n",
      "       0.017413  , 0.04089494, 0.05179791, 0.04330616, 0.07295947,\n",
      "       0.03722258, 0.03382602, 0.0435842 , 0.07004728, 0.02338767]), 'std_score_time': array([0.00847132, 0.00635546, 0.01159629, 0.00461554, 0.00418311,\n",
      "       0.01085767, 0.00485102, 0.00291405, 0.01247585, 0.00359599,\n",
      "       0.00274072, 0.00330067, 0.00715597, 0.00346204, 0.00582413,\n",
      "       0.00479595, 0.00191894, 0.00461112, 0.00324711, 0.00975127]), 'param_subsample': masked_array(data=[0.6, 0.8, 0.8, 0.6, 1.0, 0.6, 1.0, 1.0, 0.6, 1.0, 0.6,\n",
      "                   0.6, 0.8, 0.8, 0.8, 0.6, 1.0, 0.6, 1.0, 1.0],\n",
      "             mask=[False, False, False, False, False, False, False, False,\n",
      "                   False, False, False, False, False, False, False, False,\n",
      "                   False, False, False, False],\n",
      "       fill_value='?',\n",
      "            dtype=object), 'param_n_estimators': masked_array(data=[600, 300, 500, 10, 150, 600, 100, 600, 300, 300, 10,\n",
      "                   200, 400, 200, 300, 200, 150, 300, 400, 300],\n",
      "             mask=[False, False, False, False, False, False, False, False,\n",
      "                   False, False, False, False, False, False, False, False,\n",
      "                   False, False, False, False],\n",
      "       fill_value='?',\n",
      "            dtype=object), 'param_min_child_weight': masked_array(data=[1, 5, 1, 1, 5, 10, 1, 5, 5, 1, 5, 1, 10, 10, 10, 5, 10,\n",
      "                   1, 5, 1],\n",
      "             mask=[False, False, False, False, False, False, False, False,\n",
      "                   False, False, False, False, False, False, False, False,\n",
      "                   False, False, False, False],\n",
      "       fill_value='?',\n",
      "            dtype=object), 'param_max_depth': masked_array(data=[4, 4, 5, 4, 8, 8, 6, 5, 8, 6, 5, 8, 5, 4, 8, 3, 5, 8,\n",
      "                   3, 7],\n",
      "             mask=[False, False, False, False, False, False, False, False,\n",
      "                   False, False, False, False, False, False, False, False,\n",
      "                   False, False, False, False],\n",
      "       fill_value='?',\n",
      "            dtype=object), 'param_learning_rate': masked_array(data=[0.2, 0.005, 0.1, 0.01, 0.005, 0.1, 0.01, 0.01, 0.001,\n",
      "                   0.01, 0.005, 0.05, 0.05, 0.05, 0.001, 0.2, 0.01, 0.1,\n",
      "                   0.005, 0.05],\n",
      "             mask=[False, False, False, False, False, False, False, False,\n",
      "                   False, False, False, False, False, False, False, False,\n",
      "                   False, False, False, False],\n",
      "       fill_value='?',\n",
      "            dtype=object), 'param_gamma': masked_array(data=[0.5, 0.5, 1.5, 1.5, 1, 5, 1.5, 0.5, 0.5, 2, 0.5, 1,\n",
      "                   1.5, 1.5, 0.5, 0.5, 1, 1.5, 1.5, 5],\n",
      "             mask=[False, False, False, False, False, False, False, False,\n",
      "                   False, False, False, False, False, False, False, False,\n",
      "                   False, False, False, False],\n",
      "       fill_value='?',\n",
      "            dtype=object), 'param_colsample_bytree': masked_array(data=[0.8, 0.8, 1.0, 0.6, 1.0, 0.8, 1.0, 1.0, 0.6, 1.0, 0.8,\n",
      "                   0.8, 0.8, 0.6, 0.6, 0.8, 0.8, 1.0, 0.6, 1.0],\n",
      "             mask=[False, False, False, False, False, False, False, False,\n",
      "                   False, False, False, False, False, False, False, False,\n",
      "                   False, False, False, False],\n",
      "       fill_value='?',\n",
      "            dtype=object), 'params': [{'subsample': 0.6, 'n_estimators': 600, 'min_child_weight': 1, 'max_depth': 4, 'learning_rate': 0.2, 'gamma': 0.5, 'colsample_bytree': 0.8}, {'subsample': 0.8, 'n_estimators': 300, 'min_child_weight': 5, 'max_depth': 4, 'learning_rate': 0.005, 'gamma': 0.5, 'colsample_bytree': 0.8}, {'subsample': 0.8, 'n_estimators': 500, 'min_child_weight': 1, 'max_depth': 5, 'learning_rate': 0.1, 'gamma': 1.5, 'colsample_bytree': 1.0}, {'subsample': 0.6, 'n_estimators': 10, 'min_child_weight': 1, 'max_depth': 4, 'learning_rate': 0.01, 'gamma': 1.5, 'colsample_bytree': 0.6}, {'subsample': 1.0, 'n_estimators': 150, 'min_child_weight': 5, 'max_depth': 8, 'learning_rate': 0.005, 'gamma': 1, 'colsample_bytree': 1.0}, {'subsample': 0.6, 'n_estimators': 600, 'min_child_weight': 10, 'max_depth': 8, 'learning_rate': 0.1, 'gamma': 5, 'colsample_bytree': 0.8}, {'subsample': 1.0, 'n_estimators': 100, 'min_child_weight': 1, 'max_depth': 6, 'learning_rate': 0.01, 'gamma': 1.5, 'colsample_bytree': 1.0}, {'subsample': 1.0, 'n_estimators': 600, 'min_child_weight': 5, 'max_depth': 5, 'learning_rate': 0.01, 'gamma': 0.5, 'colsample_bytree': 1.0}, {'subsample': 0.6, 'n_estimators': 300, 'min_child_weight': 5, 'max_depth': 8, 'learning_rate': 0.001, 'gamma': 0.5, 'colsample_bytree': 0.6}, {'subsample': 1.0, 'n_estimators': 300, 'min_child_weight': 1, 'max_depth': 6, 'learning_rate': 0.01, 'gamma': 2, 'colsample_bytree': 1.0}, {'subsample': 0.6, 'n_estimators': 10, 'min_child_weight': 5, 'max_depth': 5, 'learning_rate': 0.005, 'gamma': 0.5, 'colsample_bytree': 0.8}, {'subsample': 0.6, 'n_estimators': 200, 'min_child_weight': 1, 'max_depth': 8, 'learning_rate': 0.05, 'gamma': 1, 'colsample_bytree': 0.8}, {'subsample': 0.8, 'n_estimators': 400, 'min_child_weight': 10, 'max_depth': 5, 'learning_rate': 0.05, 'gamma': 1.5, 'colsample_bytree': 0.8}, {'subsample': 0.8, 'n_estimators': 200, 'min_child_weight': 10, 'max_depth': 4, 'learning_rate': 0.05, 'gamma': 1.5, 'colsample_bytree': 0.6}, {'subsample': 0.8, 'n_estimators': 300, 'min_child_weight': 10, 'max_depth': 8, 'learning_rate': 0.001, 'gamma': 0.5, 'colsample_bytree': 0.6}, {'subsample': 0.6, 'n_estimators': 200, 'min_child_weight': 5, 'max_depth': 3, 'learning_rate': 0.2, 'gamma': 0.5, 'colsample_bytree': 0.8}, {'subsample': 1.0, 'n_estimators': 150, 'min_child_weight': 10, 'max_depth': 5, 'learning_rate': 0.01, 'gamma': 1, 'colsample_bytree': 0.8}, {'subsample': 0.6, 'n_estimators': 300, 'min_child_weight': 1, 'max_depth': 8, 'learning_rate': 0.1, 'gamma': 1.5, 'colsample_bytree': 1.0}, {'subsample': 1.0, 'n_estimators': 400, 'min_child_weight': 5, 'max_depth': 3, 'learning_rate': 0.005, 'gamma': 1.5, 'colsample_bytree': 0.6}, {'subsample': 1.0, 'n_estimators': 300, 'min_child_weight': 1, 'max_depth': 7, 'learning_rate': 0.05, 'gamma': 5, 'colsample_bytree': 1.0}], 'split0_test_score': array([0.90909091, 0.9030303 , 0.91515152, 0.9       , 0.89090909,\n",
      "       0.90606061, 0.88484848, 0.91212121, 0.8969697 , 0.8969697 ,\n",
      "       0.88787879, 0.91515152, 0.9030303 , 0.9030303 , 0.88787879,\n",
      "       0.9       , 0.89393939, 0.90606061, 0.91515152, 0.9030303 ]), 'split1_test_score': array([0.94545455, 0.92121212, 0.94242424, 0.91212121, 0.92424242,\n",
      "       0.93636364, 0.92424242, 0.94242424, 0.92727273, 0.93333333,\n",
      "       0.91515152, 0.94848485, 0.93939394, 0.93939394, 0.91818182,\n",
      "       0.93333333, 0.92424242, 0.94242424, 0.91818182, 0.92424242]), 'split2_test_score': array([0.94545455, 0.94242424, 0.94848485, 0.91515152, 0.91212121,\n",
      "       0.94242424, 0.93333333, 0.93636364, 0.94545455, 0.94545455,\n",
      "       0.90909091, 0.94848485, 0.93636364, 0.93636364, 0.92727273,\n",
      "       0.93333333, 0.93333333, 0.94242424, 0.93030303, 0.93939394]), 'split3_test_score': array([0.91818182, 0.89090909, 0.92121212, 0.89393939, 0.88181818,\n",
      "       0.89090909, 0.89393939, 0.9030303 , 0.8969697 , 0.90606061,\n",
      "       0.86969697, 0.92121212, 0.9030303 , 0.90909091, 0.87878788,\n",
      "       0.91515152, 0.8969697 , 0.90909091, 0.9       , 0.8969697 ]), 'split4_test_score': array([0.92923077, 0.91384615, 0.93846154, 0.89846154, 0.87384615,\n",
      "       0.91692308, 0.91076923, 0.91692308, 0.91384615, 0.92307692,\n",
      "       0.88307692, 0.92615385, 0.92307692, 0.92615385, 0.91384615,\n",
      "       0.92307692, 0.90153846, 0.94153846, 0.90153846, 0.90769231]), 'mean_test_score': array([0.92948328, 0.91428571, 0.9331307 , 0.90395137, 0.89665653,\n",
      "       0.91854103, 0.90942249, 0.92218845, 0.91610942, 0.92097264,\n",
      "       0.89300912, 0.93191489, 0.92097264, 0.92279635, 0.90516717,\n",
      "       0.92097264, 0.9100304 , 0.92826748, 0.91306991, 0.91428571]), 'std_test_score': array([0.0145396 , 0.01742235, 0.01278975, 0.00823105, 0.01882097,\n",
      "       0.01905475, 0.01812031, 0.01489613, 0.01859407, 0.01766209,\n",
      "       0.01685315, 0.01400246, 0.01567268, 0.01450778, 0.01861303,\n",
      "       0.01253837, 0.01580707, 0.01696777, 0.01123512, 0.01550836]), 'rank_test_score': array([ 3, 12,  1, 18, 19, 10, 16,  6, 11,  7, 20,  2,  7,  5, 17,  7, 15,\n",
      "        4, 14, 12], dtype=int32)}\n",
      "\n",
      " Best estimator:\n",
      "XGBClassifier(base_score=0.5, booster='gbtree', colsample_bylevel=1,\n",
      "              colsample_bynode=1, colsample_bytree=1.0, gamma=1.5,\n",
      "              learning_rate=0.1, max_delta_step=0, max_depth=5,\n",
      "              min_child_weight=1, missing=None, n_estimators=500, n_jobs=1,\n",
      "              nthread=None, num_class=5, objective='multi:softprob',\n",
      "              random_state=0, reg_alpha=0, reg_lambda=1, scale_pos_weight=1,\n",
      "              seed=None, silent=True, subsample=0.8, verbosity=1)\n",
      "\n",
      " Best normalized gini score for 5-fold search with 20 parameter combinations:\n",
      "0.8662613981762919\n",
      "\n",
      " Best hyperparameters:\n",
      "{'subsample': 0.8, 'n_estimators': 500, 'min_child_weight': 1, 'max_depth': 5, 'learning_rate': 0.1, 'gamma': 1.5, 'colsample_bytree': 1.0}\n"
     ]
    }
   ],
   "source": [
    "print('\\n All results:')\n",
    "print(random_search.cv_results_)\n",
    "print('\\n Best estimator:')\n",
    "print(random_search.best_estimator_)\n",
    "print('\\n Best normalized gini score for %d-fold search with %d parameter combinations:' % (folds, param_comb))\n",
    "print(random_search.best_score_ * 2 - 1)\n",
    "print('\\n Best hyperparameters:')\n",
    "print(random_search.best_params_)\n",
    "results = pd.DataFrame(random_search.cv_results_)\n",
    "results.to_csv('xgb-random-grid-search-results-50-AllDist_AllAngles.csv', index=False)"
   ]
  },
  {
   "cell_type": "code",
   "execution_count": 0,
   "metadata": {
    "colab": {},
    "colab_type": "code",
    "id": "wAWRZHGf4xYe"
   },
   "outputs": [],
   "source": [
    "preds = random_search.predict_proba(X_test)\n",
    "results_df = pd.DataFrame(data={'action_class':y_test, 'prediction':preds[:,1]})\n",
    "results_df.to_csv('submission-random-grid-search-xgb-porto-50-AllDist_AllAngles.csv', index=False)"
   ]
  },
  {
   "cell_type": "code",
   "execution_count": 0,
   "metadata": {
    "colab": {
     "base_uri": "https://localhost:8080/",
     "height": 234
    },
    "colab_type": "code",
    "id": "HcxzPnF2uCXx",
    "outputId": "9441a24e-7907-4cea-8f27-598d9d256bdf"
   },
   "outputs": [
    {
     "ename": "NameError",
     "evalue": "ignored",
     "output_type": "error",
     "traceback": [
      "\u001b[0;31m---------------------------------------------------------------------------\u001b[0m",
      "\u001b[0;31mNameError\u001b[0m                                 Traceback (most recent call last)",
      "\u001b[0;32m<ipython-input-21-397f4d6ffd60>\u001b[0m in \u001b[0;36m<module>\u001b[0;34m()\u001b[0m\n\u001b[0;32m----> 1\u001b[0;31m \u001b[0myprob\u001b[0m \u001b[0;34m=\u001b[0m \u001b[0mbst\u001b[0m\u001b[0;34m.\u001b[0m\u001b[0mpredict\u001b[0m\u001b[0;34m(\u001b[0m \u001b[0mXtest\u001b[0m \u001b[0;34m)\u001b[0m\u001b[0;34m.\u001b[0m\u001b[0mreshape\u001b[0m\u001b[0;34m(\u001b[0m \u001b[0mytest\u001b[0m\u001b[0;34m.\u001b[0m\u001b[0mshape\u001b[0m\u001b[0;34m[\u001b[0m\u001b[0;36m0\u001b[0m\u001b[0;34m]\u001b[0m\u001b[0;34m,\u001b[0m \u001b[0;36m100\u001b[0m \u001b[0;34m)\u001b[0m\u001b[0;34m\u001b[0m\u001b[0;34m\u001b[0m\u001b[0m\n\u001b[0m\u001b[1;32m      2\u001b[0m \u001b[0mylabel\u001b[0m \u001b[0;34m=\u001b[0m \u001b[0mnp\u001b[0m\u001b[0;34m.\u001b[0m\u001b[0margmax\u001b[0m\u001b[0;34m(\u001b[0m\u001b[0myprob\u001b[0m\u001b[0;34m,\u001b[0m \u001b[0maxis\u001b[0m\u001b[0;34m=\u001b[0m\u001b[0;36m1\u001b[0m\u001b[0;34m)\u001b[0m\u001b[0;34m\u001b[0m\u001b[0;34m\u001b[0m\u001b[0m\n\u001b[1;32m      3\u001b[0m \u001b[0;34m\u001b[0m\u001b[0m\n\u001b[1;32m      4\u001b[0m \u001b[0mprint\u001b[0m \u001b[0;34m(\u001b[0m\u001b[0;34m'predicting, classification error=%f'\u001b[0m \u001b[0;34m%\u001b[0m        \u001b[0;34m(\u001b[0m\u001b[0mnp\u001b[0m\u001b[0;34m.\u001b[0m\u001b[0msum\u001b[0m\u001b[0;34m(\u001b[0m \u001b[0mylabel\u001b[0m \u001b[0;34m!=\u001b[0m \u001b[0mytest\u001b[0m\u001b[0;34m)\u001b[0m \u001b[0;34m/\u001b[0m \u001b[0mfloat\u001b[0m\u001b[0;34m(\u001b[0m\u001b[0mytest\u001b[0m\u001b[0;34m.\u001b[0m\u001b[0mshape\u001b[0m\u001b[0;34m[\u001b[0m\u001b[0;36m0\u001b[0m\u001b[0;34m]\u001b[0m\u001b[0;34m)\u001b[0m \u001b[0;34m)\u001b[0m\u001b[0;34m)\u001b[0m\u001b[0;34m\u001b[0m\u001b[0;34m\u001b[0m\u001b[0m\n",
      "\u001b[0;31mNameError\u001b[0m: name 'bst' is not defined"
     ]
    }
   ],
   "source": [
    "yprob = bst.predict( Xtest ).reshape( ytest.shape[0], 100 )\n",
    "ylabel = np.argmax(yprob, axis=1)\n",
    "\n",
    "print ('predicting, classification error=%f' % \\\n",
    "       (np.sum( ylabel != ytest) / float(ytest.shape[0]) ))"
   ]
  },
  {
   "cell_type": "code",
   "execution_count": 0,
   "metadata": {
    "colab": {
     "base_uri": "https://localhost:8080/",
     "height": 34
    },
    "colab_type": "code",
    "id": "ydMNxOPg_ArK",
    "outputId": "41866f13-0190-4db5-e044-b80ad647f39a"
   },
   "outputs": [
    {
     "data": {
      "text/plain": [
       "(350,)"
      ]
     },
     "execution_count": 55,
     "metadata": {
      "tags": []
     },
     "output_type": "execute_result"
    }
   ],
   "source": [
    "y_test.shape"
   ]
  },
  {
   "cell_type": "code",
   "execution_count": 0,
   "metadata": {
    "colab": {},
    "colab_type": "code",
    "id": "CLIPKJS7Ub2P"
   },
   "outputs": [],
   "source": [
    "#---------------- train model -------------------"
   ]
  },
  {
   "cell_type": "code",
   "execution_count": 0,
   "metadata": {
    "colab": {},
    "colab_type": "code",
    "id": "JcfzirvbW_Zh"
   },
   "outputs": [],
   "source": [
    "train_model = XGBClassifier(subsample=, n_estimators=, min_child_weight=, max_depth=, learning_rate=, gamma=, colsample_bytree=, objective='multi:softmax', silent=True, num_class=10)\n"
   ]
  },
  {
   "cell_type": "code",
   "execution_count": 0,
   "metadata": {
    "colab": {
     "base_uri": "https://localhost:8080/",
     "height": 136
    },
    "colab_type": "code",
    "id": "UgxovLVuT_E3",
    "outputId": "81c1b93f-0158-4591-ef99-6400afef8cbd"
   },
   "outputs": [
    {
     "data": {
      "text/plain": [
       "XGBClassifier(base_score=0.5, booster='gbtree', colsample_bylevel=1,\n",
       "              colsample_bynode=1, colsample_bytree=1.0, gamma=1.5,\n",
       "              learning_rate=0.1, max_delta_step=0, max_depth=5,\n",
       "              min_child_weight=1, missing=None, n_estimators=500, n_jobs=1,\n",
       "              nthread=None, num_class=5, objective='multi:softprob',\n",
       "              random_state=0, reg_alpha=0, reg_lambda=1, scale_pos_weight=1,\n",
       "              seed=None, silent=True, subsample=0.8, verbosity=1)"
      ]
     },
     "execution_count": 24,
     "metadata": {
      "tags": []
     },
     "output_type": "execute_result"
    }
   ],
   "source": [
    "train_model.fit(X_train, y_train)"
   ]
  },
  {
   "cell_type": "code",
   "execution_count": 0,
   "metadata": {
    "colab": {
     "base_uri": "https://localhost:8080/",
     "height": 54
    },
    "colab_type": "code",
    "id": "L2dpYxFUTZpK",
    "outputId": "51c7ead4-2d1a-4bd1-a25f-808e8e525c93"
   },
   "outputs": [
    {
     "name": "stdout",
     "output_type": "stream",
     "text": [
      "Model 2 XGboost Report '                precision    recall  f1-score   support\\n\\n  arms corssed       0.94      0.94      0.94        82\\n       arms up       0.88      0.87      0.87        82\\narms wide open       0.91      0.91      0.91        82\\n hands on hips       0.97      0.90      0.94        82\\n       neutral       0.88      0.95      0.91        82\\n\\n      accuracy                           0.91       410\\n     macro avg       0.92      0.91      0.91       410\\n  weighted avg       0.92      0.91      0.91       410\\n'\n"
     ]
    }
   ],
   "source": [
    "# pred1 = train_model1.predict(X_test)\n",
    "preds = train_model.predict(X_test)\n",
    "\n",
    "# print('Model 1 XGboost Report %r' % (classification_report(y_test, pred1)))\n",
    "print('Model 2 XGboost Report %r' % (classification_report(y_test, preds)))"
   ]
  },
  {
   "cell_type": "code",
   "execution_count": 0,
   "metadata": {
    "colab": {
     "base_uri": "https://localhost:8080/",
     "height": 380
    },
    "colab_type": "code",
    "id": "c8jDQuocJM8O",
    "outputId": "798e9f03-8ec9-4462-c8fa-df18363016f3"
   },
   "outputs": [
    {
     "data": {
      "image/png": "[encoded data removed]",
      "text/plain": [
       "<Figure size 396x288 with 2 Axes>"
      ]
     },
     "metadata": {
      "tags": []
     },
     "output_type": "display_data"
    }
   ],
   "source": [
    "from sklearn.metrics import accuracy_score, confusion_matrix, precision_recall_fscore_support\n",
    "import matplotlib.pyplot as plt\n",
    "import seaborn as sns\n",
    "\n",
    "#clf = SVC(kernel = 'linear').fit(x_train,y_train)\n",
    "#clf.predict(x_train)\n",
    "#y_pred = clf.predict(x_test)\n",
    "\n",
    "# Creates a confusion matrix\n",
    "cm = confusion_matrix(y_test, preds) \n",
    "\n",
    "# Transform to df for easier plotting\n",
    "\n",
    "cm_df = pd.DataFrame(cm, index = [[\"zero\", \"one\", \"two\", \"three\", \"five\", \"dislike\", \"like\", \"exactly\", \"left\", \"negative\"],\n",
    "                                 columns = [\"zero\", \"one\", \"two\", \"three\", \"five\", \"dislike\", \"like\", \"exactly\", \"left\", \"negative\"]])\n",
    "\n",
    "\n",
    "plt.figure(figsize=(5.5,4))\n",
    "sns.heatmap(cm_df, annot=True)\n",
    "plt.title('XGBoost - Joints Dist and Angles with PCA \\nAccuracy:{0:.3f}'.format(accuracy_score(y_test, preds))).set_color('white')\n",
    "plt.ylabel('True label').set_color('white')\n",
    "plt.xlabel('Predicted label').set_color('white')\n",
    "#plt.xaxis.label.set_color('White')\n",
    "plt.tick_params(axis='x', colors='white')\n",
    "plt.tick_params(axis='y', colors='white')\n",
    "plt.show()"
   ]
  },
  {
   "cell_type": "markdown",
   "metadata": {
    "colab_type": "text",
    "id": "uTOrn_Z-VZX1"
   },
   "source": [
    "Model 2 XGboost Report '              precision    recall  f1-score   support\\n\\n     Sitting       0.88      0.89      0.88        90\\n    Sleeping       0.92      0.83      0.87        41\\n    Standing       0.74      0.73      0.73       111\\n     Walking       0.71      0.73      0.72       108\\n\\n    accuracy                           0.78       350\\n   macro avg       0.81      0.79      0.80       350\\nweighted avg       0.78      0.78      0.78       350\\n'"
   ]
  },
  {
   "cell_type": "code",
   "execution_count": 0,
   "metadata": {
    "colab": {
     "base_uri": "https://localhost:8080/",
     "height": 306
    },
    "colab_type": "code",
    "id": "CF_UaeDXJeXU",
    "outputId": "95945cca-bdc5-49e3-8cf7-87368cb9698f"
   },
   "outputs": [
    {
     "name": "stdout",
     "output_type": "stream",
     "text": [
      "Fri Aug  9 11:49:44 2019       \n",
      "+-----------------------------------------------------------------------------+\n",
      "| NVIDIA-SMI 418.67       Driver Version: 410.79       CUDA Version: 10.0     |\n",
      "|-------------------------------+----------------------+----------------------+\n",
      "| GPU  Name        Persistence-M| Bus-Id        Disp.A | Volatile Uncorr. ECC |\n",
      "| Fan  Temp  Perf  Pwr:Usage/Cap|         Memory-Usage | GPU-Util  Compute M. |\n",
      "|===============================+======================+======================|\n",
      "|   0  Tesla T4            Off  | 00000000:00:04.0 Off |                    0 |\n",
      "| N/A   41C    P8    16W /  70W |      0MiB / 15079MiB |      0%      Default |\n",
      "+-------------------------------+----------------------+----------------------+\n",
      "                                                                               \n",
      "+-----------------------------------------------------------------------------+\n",
      "| Processes:                                                       GPU Memory |\n",
      "|  GPU       PID   Type   Process name                             Usage      |\n",
      "|=============================================================================|\n",
      "|  No running processes found                                                 |\n",
      "+-----------------------------------------------------------------------------+\n"
     ]
    }
   ],
   "source": [
    "!nvidia-smi"
   ]
  }
 ],
 "metadata": {
  "accelerator": "GPU",
  "colab": {
   "collapsed_sections": [],
   "name": "Copy of XGBoost.ipynb",
   "provenance": [],
   "version": "0.3.2"
  },
  "kernelspec": {
   "display_name": "Python 3 (ipykernel)",
   "language": "python",
   "name": "python3"
  },
  "language_info": {
   "codemirror_mode": {
    "name": "ipython",
    "version": 3
   },
   "file_extension": ".py",
   "mimetype": "text/x-python",
   "name": "python",
   "nbconvert_exporter": "python",
   "pygments_lexer": "ipython3",
   "version": "3.8.1"
  }
 },
 "nbformat": 4,
 "nbformat_minor": 1
}
