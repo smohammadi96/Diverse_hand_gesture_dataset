{
 "cells": [
  {
   "cell_type": "code",
   "execution_count": 1,
   "metadata": {},
   "outputs": [
    {
     "name": "stderr",
     "output_type": "stream",
     "text": [
      "C:\\Users\\labkhand\\Anaconda3\\lib\\site-packages\\h5py\\__init__.py:72: UserWarning: h5py is running against HDF5 1.10.2 when it was built against 1.10.3, this may cause problems\n",
      "  '{0}.{1}.{2}'.format(*version.hdf5_built_version_tuple)\n",
      "Using TensorFlow backend.\n"
     ]
    }
   ],
   "source": [
    "import cv2\n",
    "import glob\n",
    "import pickle\n",
    "import numpy as np\n",
    "from keras.models import Model\n",
    "from keras.applications.nasnet import NASNetLarge, preprocess_input\n",
    "from sklearn.neighbors import KNeighborsClassifier\n",
    "from sklearn.metrics import confusion_matrix\n",
    " \n",
    "model = NASNetLarge(weights='imagenet')\n",
    "model = Model(model.inputs, model.layers[-2].output) \n",
    "  \n"
   ]
  },
  {
   "cell_type": "code",
   "execution_count": 2,
   "metadata": {},
   "outputs": [],
   "source": [
    "file = open(\"D:/pickle_out_new/NASNetLarge_before_softmax\", \"rb\")\n",
    "train_features = pickle.load(file)\n",
    "file.close()\n",
    "\n",
    "file = open(\"D:/pickle_out_new/labels\", \"rb\")\n",
    "train_labels = pickle.load(file)\n",
    "file.close()\n",
    "\n",
    "file = open(\"pickle_out_new_test/NASNetLarge_before_softmax\", \"rb\")\n",
    "test_features = pickle.load(file)\n",
    "file.close()\n",
    "\n",
    "file = open(\"pickle_out_new_test/labels\", \"rb\")\n",
    "test_labels = pickle.load(file)\n",
    "file.close()"
   ]
  },
  {
   "cell_type": "code",
   "execution_count": 3,
   "metadata": {},
   "outputs": [
    {
     "name": "stdout",
     "output_type": "stream",
     "text": [
      "0.6523076923076923\n"
     ]
    }
   ],
   "source": [
    "neigh = KNeighborsClassifier(n_neighbors=3)\n",
    "neigh.fit(train_features, train_labels) \n",
    "print(neigh.score(test_features, test_labels))\n"
   ]
  },
  {
   "cell_type": "code",
   "execution_count": 4,
   "metadata": {},
   "outputs": [
    {
     "name": "stdout",
     "output_type": "stream",
     "text": [
      "['2', '2', '2', '2', '2', '2', '2', '2', '2', '2', '2', '2', '2', '2', '2', '2', '2', '2', '2', '2', '2', '2', '2', '2', '2', '2', '2', '2', '2', '2', '2', '2', '2', '2', '2', '2', '2', '2', '2', '2', '2', '2', '2', '2', '2', '2', '2', '2', '2', '2', '2', '2', '2', '2', '2', '2', '2', '2', '2', '2', '2', '2', '2', '2', '2', '2', '2', '2', '2', '5', '5', '5', '5', '5', '5', '5', '5', '5', '5', '5', '5', '5', '5', '5', '5', '5', '5', '5', '5', '5', '5', '5', '5', '5', '5', '5', '5', '5', '5', '5', '5', '5', '5', '5', '5', '5', '5', '5', '5', '5', '5', '5', '5', '5', '5', '5', '5', '5', '5', '5', '5', '5', '5', '5', '5', '5', '5', '5', '5', '5', '5', '5', '5', '5', 'negetive', 'negetive', 'negetive', 'negetive', 'negetive', 'negetive', 'negetive', 'negetive', 'negetive', 'negetive', 'negetive', 'negetive', 'negetive', 'negetive', 'negetive', 'negetive', 'negetive', 'negetive', 'negetive', 'negetive', 'negetive', 'negetive', 'negetive', 'negetive', 'negetive', 'negetive', 'negetive', 'negetive', 'negetive', 'negetive', 'negetive', 'negetive', 'negetive', 'negetive', 'negetive', 'negetive', 'negetive', 'negetive', 'negetive', 'negetive', 'negetive', 'negetive', 'negetive', 'negetive', 'negetive', 'negetive', 'negetive', 'negetive', 'negetive', 'negetive', 'negetive', 'negetive', 'negetive', 'negetive', 'negetive', 'negetive', 'negetive', 'negetive', 'negetive', 'negetive', 'negetive', 'negetive', 'negetive', 'negetive', 'negetive', 'negetive', 'negetive', 'negetive', 'negetive', 'negetive', 'negetive', 'negetive', 'zero', 'zero', 'zero', 'zero', 'zero', 'zero', 'zero', 'zero', 'zero', 'zero', 'zero', 'zero', 'zero', 'zero', 'zero', 'zero', 'zero', 'zero', 'zero', 'zero', 'zero', 'zero', 'zero', 'zero', 'zero', 'zero', 'zero', 'zero', 'zero', 'zero', 'zero', 'zero', 'zero', 'zero', 'zero', 'zero', 'zero', 'zero', 'zero', 'zero', 'zero', 'zero', 'zero', 'zero', 'zero', 'zero', 'zero', 'zero', 'zero', 'zero', 'zero', 'zero', 'zero', 'zero', 'zero', 'zero', 'zero', 'zero', 'zero', 'zero', 'zero', 'zero', 'zero', 'zero', 'zero', 'zero', 'zero', 'zero', 'zero', 'zero', 'zero', 'zero', 'zero', 'zero', 'zero', 'zero', 'zero', 'zero', 'zero', 'zero', 'zero', 'zero', 'zero', 'zero', 'zero', 'zero', 'zero', 'zero', 'zero', 'zero', 'zero', 'zero', 'zero', 'zero', 'zero', 'zero', 'zero', 'zero', 'zero', 'zero', 'zero', 'zero', 'zero', 'zero', 'zero', 'zero', 'zero', 'zero', 'zero', 'zero', 'zero', 'zero', 'zero', 'zero', 'zero', 'zero', 'zero', 'zero', 'zero']\n"
     ]
    }
   ],
   "source": [
    "print(test_labels)"
   ]
  },
  {
   "cell_type": "code",
   "execution_count": 5,
   "metadata": {
    "scrolled": true
   },
   "outputs": [
    {
     "name": "stdout",
     "output_type": "stream",
     "text": [
      "[array(['2'], dtype='<U8')]\n",
      "[array(['2'], dtype='<U8'), array(['2'], dtype='<U8')]\n",
      "[array(['2'], dtype='<U8'), array(['2'], dtype='<U8'), array(['zero'], dtype='<U8')]\n",
      "[array(['2'], dtype='<U8'), array(['2'], dtype='<U8'), array(['zero'], dtype='<U8'), array(['5'], dtype='<U8')]\n",
      "[array(['2'], dtype='<U8'), array(['2'], dtype='<U8'), array(['zero'], dtype='<U8'), array(['5'], dtype='<U8'), array(['5'], dtype='<U8')]\n",
      "[array(['2'], dtype='<U8'), array(['2'], dtype='<U8'), array(['zero'], dtype='<U8'), array(['5'], dtype='<U8'), array(['5'], dtype='<U8'), array(['5'], dtype='<U8')]\n",
      "[array(['2'], dtype='<U8'), array(['2'], dtype='<U8'), array(['zero'], dtype='<U8'), array(['5'], dtype='<U8'), array(['5'], dtype='<U8'), array(['5'], dtype='<U8'), array(['5'], dtype='<U8')]\n",
      "[array(['2'], dtype='<U8'), array(['2'], dtype='<U8'), array(['zero'], dtype='<U8'), array(['5'], dtype='<U8'), array(['5'], dtype='<U8'), array(['5'], dtype='<U8'), array(['5'], dtype='<U8'), array(['5'], dtype='<U8')]\n",
      "[array(['2'], dtype='<U8'), array(['2'], dtype='<U8'), array(['zero'], dtype='<U8'), array(['5'], dtype='<U8'), array(['5'], dtype='<U8'), array(['5'], dtype='<U8'), array(['5'], dtype='<U8'), array(['5'], dtype='<U8'), array(['zero'], dtype='<U8')]\n",
      "[array(['2'], dtype='<U8'), array(['2'], dtype='<U8'), array(['zero'], dtype='<U8'), array(['5'], dtype='<U8'), array(['5'], dtype='<U8'), array(['5'], dtype='<U8'), array(['5'], dtype='<U8'), array(['5'], dtype='<U8'), array(['zero'], dtype='<U8'), array(['zero'], dtype='<U8')]\n",
      "[array(['2'], dtype='<U8'), array(['2'], dtype='<U8'), array(['zero'], dtype='<U8'), array(['5'], dtype='<U8'), array(['5'], dtype='<U8'), array(['5'], dtype='<U8'), array(['5'], dtype='<U8'), array(['5'], dtype='<U8'), array(['zero'], dtype='<U8'), array(['zero'], dtype='<U8'), array(['zero'], dtype='<U8')]\n",
      "[array(['2'], dtype='<U8'), array(['2'], dtype='<U8'), array(['zero'], dtype='<U8'), array(['5'], dtype='<U8'), array(['5'], dtype='<U8'), array(['5'], dtype='<U8'), array(['5'], dtype='<U8'), array(['5'], dtype='<U8'), array(['zero'], dtype='<U8'), array(['zero'], dtype='<U8'), array(['zero'], dtype='<U8'), array(['zero'], dtype='<U8')]\n",
      "[array(['2'], dtype='<U8'), array(['2'], dtype='<U8'), array(['zero'], dtype='<U8'), array(['5'], dtype='<U8'), array(['5'], dtype='<U8'), array(['5'], dtype='<U8'), array(['5'], dtype='<U8'), array(['5'], dtype='<U8'), array(['zero'], dtype='<U8'), array(['zero'], dtype='<U8'), array(['zero'], dtype='<U8'), array(['zero'], dtype='<U8'), array(['2'], dtype='<U8')]\n",
      "[array(['2'], dtype='<U8'), array(['2'], dtype='<U8'), array(['zero'], dtype='<U8'), array(['5'], dtype='<U8'), array(['5'], dtype='<U8'), array(['5'], dtype='<U8'), array(['5'], dtype='<U8'), array(['5'], dtype='<U8'), array(['zero'], dtype='<U8'), array(['zero'], dtype='<U8'), array(['zero'], dtype='<U8'), array(['zero'], dtype='<U8'), array(['2'], dtype='<U8'), array(['2'], dtype='<U8')]\n",
      "[array(['2'], dtype='<U8'), array(['2'], dtype='<U8'), array(['zero'], dtype='<U8'), array(['5'], dtype='<U8'), array(['5'], dtype='<U8'), array(['5'], dtype='<U8'), array(['5'], dtype='<U8'), array(['5'], dtype='<U8'), array(['zero'], dtype='<U8'), array(['zero'], dtype='<U8'), array(['zero'], dtype='<U8'), array(['zero'], dtype='<U8'), array(['2'], dtype='<U8'), array(['2'], dtype='<U8'), array(['2'], dtype='<U8')]\n",
      "[array(['2'], dtype='<U8'), array(['2'], dtype='<U8'), array(['zero'], dtype='<U8'), array(['5'], dtype='<U8'), array(['5'], dtype='<U8'), array(['5'], dtype='<U8'), array(['5'], dtype='<U8'), array(['5'], dtype='<U8'), array(['zero'], dtype='<U8'), array(['zero'], dtype='<U8'), array(['zero'], dtype='<U8'), array(['zero'], dtype='<U8'), array(['2'], dtype='<U8'), array(['2'], dtype='<U8'), array(['2'], dtype='<U8'), array(['2'], dtype='<U8')]\n",
      "[array(['2'], dtype='<U8'), array(['2'], dtype='<U8'), array(['zero'], dtype='<U8'), array(['5'], dtype='<U8'), array(['5'], dtype='<U8'), array(['5'], dtype='<U8'), array(['5'], dtype='<U8'), array(['5'], dtype='<U8'), array(['zero'], dtype='<U8'), array(['zero'], dtype='<U8'), array(['zero'], dtype='<U8'), array(['zero'], dtype='<U8'), array(['2'], dtype='<U8'), array(['2'], dtype='<U8'), array(['2'], dtype='<U8'), array(['2'], dtype='<U8'), array(['5'], dtype='<U8')]\n",
      "[array(['2'], dtype='<U8'), array(['2'], dtype='<U8'), array(['zero'], dtype='<U8'), array(['5'], dtype='<U8'), array(['5'], dtype='<U8'), array(['5'], dtype='<U8'), array(['5'], dtype='<U8'), array(['5'], dtype='<U8'), array(['zero'], dtype='<U8'), array(['zero'], dtype='<U8'), array(['zero'], dtype='<U8'), array(['zero'], dtype='<U8'), array(['2'], dtype='<U8'), array(['2'], dtype='<U8'), array(['2'], dtype='<U8'), array(['2'], dtype='<U8'), array(['5'], dtype='<U8'), array(['2'], dtype='<U8')]\n",
      "[array(['2'], dtype='<U8'), array(['2'], dtype='<U8'), array(['zero'], dtype='<U8'), array(['5'], dtype='<U8'), array(['5'], dtype='<U8'), array(['5'], dtype='<U8'), array(['5'], dtype='<U8'), array(['5'], dtype='<U8'), array(['zero'], dtype='<U8'), array(['zero'], dtype='<U8'), array(['zero'], dtype='<U8'), array(['zero'], dtype='<U8'), array(['2'], dtype='<U8'), array(['2'], dtype='<U8'), array(['2'], dtype='<U8'), array(['2'], dtype='<U8'), array(['5'], dtype='<U8'), array(['2'], dtype='<U8'), array(['5'], dtype='<U8')]\n",
      "[array(['2'], dtype='<U8'), array(['2'], dtype='<U8'), array(['zero'], dtype='<U8'), array(['5'], dtype='<U8'), array(['5'], dtype='<U8'), array(['5'], dtype='<U8'), array(['5'], dtype='<U8'), array(['5'], dtype='<U8'), array(['zero'], dtype='<U8'), array(['zero'], dtype='<U8'), array(['zero'], dtype='<U8'), array(['zero'], dtype='<U8'), array(['2'], dtype='<U8'), array(['2'], dtype='<U8'), array(['2'], dtype='<U8'), array(['2'], dtype='<U8'), array(['5'], dtype='<U8'), array(['2'], dtype='<U8'), array(['5'], dtype='<U8'), array(['5'], dtype='<U8')]\n",
      "[array(['2'], dtype='<U8'), array(['2'], dtype='<U8'), array(['zero'], dtype='<U8'), array(['5'], dtype='<U8'), array(['5'], dtype='<U8'), array(['5'], dtype='<U8'), array(['5'], dtype='<U8'), array(['5'], dtype='<U8'), array(['zero'], dtype='<U8'), array(['zero'], dtype='<U8'), array(['zero'], dtype='<U8'), array(['zero'], dtype='<U8'), array(['2'], dtype='<U8'), array(['2'], dtype='<U8'), array(['2'], dtype='<U8'), array(['2'], dtype='<U8'), array(['5'], dtype='<U8'), array(['2'], dtype='<U8'), array(['5'], dtype='<U8'), array(['5'], dtype='<U8'), array(['5'], dtype='<U8')]\n",
      "[array(['2'], dtype='<U8'), array(['2'], dtype='<U8'), array(['zero'], dtype='<U8'), array(['5'], dtype='<U8'), array(['5'], dtype='<U8'), array(['5'], dtype='<U8'), array(['5'], dtype='<U8'), array(['5'], dtype='<U8'), array(['zero'], dtype='<U8'), array(['zero'], dtype='<U8'), array(['zero'], dtype='<U8'), array(['zero'], dtype='<U8'), array(['2'], dtype='<U8'), array(['2'], dtype='<U8'), array(['2'], dtype='<U8'), array(['2'], dtype='<U8'), array(['5'], dtype='<U8'), array(['2'], dtype='<U8'), array(['5'], dtype='<U8'), array(['5'], dtype='<U8'), array(['5'], dtype='<U8'), array(['zero'], dtype='<U8')]\n",
      "[array(['2'], dtype='<U8'), array(['2'], dtype='<U8'), array(['zero'], dtype='<U8'), array(['5'], dtype='<U8'), array(['5'], dtype='<U8'), array(['5'], dtype='<U8'), array(['5'], dtype='<U8'), array(['5'], dtype='<U8'), array(['zero'], dtype='<U8'), array(['zero'], dtype='<U8'), array(['zero'], dtype='<U8'), array(['zero'], dtype='<U8'), array(['2'], dtype='<U8'), array(['2'], dtype='<U8'), array(['2'], dtype='<U8'), array(['2'], dtype='<U8'), array(['5'], dtype='<U8'), array(['2'], dtype='<U8'), array(['5'], dtype='<U8'), array(['5'], dtype='<U8'), array(['5'], dtype='<U8'), array(['zero'], dtype='<U8'), array(['5'], dtype='<U8')]\n",
      "[array(['2'], dtype='<U8'), array(['2'], dtype='<U8'), array(['zero'], dtype='<U8'), array(['5'], dtype='<U8'), array(['5'], dtype='<U8'), array(['5'], dtype='<U8'), array(['5'], dtype='<U8'), array(['5'], dtype='<U8'), array(['zero'], dtype='<U8'), array(['zero'], dtype='<U8'), array(['zero'], dtype='<U8'), array(['zero'], dtype='<U8'), array(['2'], dtype='<U8'), array(['2'], dtype='<U8'), array(['2'], dtype='<U8'), array(['2'], dtype='<U8'), array(['5'], dtype='<U8'), array(['2'], dtype='<U8'), array(['5'], dtype='<U8'), array(['5'], dtype='<U8'), array(['5'], dtype='<U8'), array(['zero'], dtype='<U8'), array(['5'], dtype='<U8'), array(['5'], dtype='<U8')]\n"
     ]
    },
    {
     "name": "stdout",
     "output_type": "stream",
     "text": [
      "[array(['2'], dtype='<U8'), array(['2'], dtype='<U8'), array(['zero'], dtype='<U8'), array(['5'], dtype='<U8'), array(['5'], dtype='<U8'), array(['5'], dtype='<U8'), array(['5'], dtype='<U8'), array(['5'], dtype='<U8'), array(['zero'], dtype='<U8'), array(['zero'], dtype='<U8'), array(['zero'], dtype='<U8'), array(['zero'], dtype='<U8'), array(['2'], dtype='<U8'), array(['2'], dtype='<U8'), array(['2'], dtype='<U8'), array(['2'], dtype='<U8'), array(['5'], dtype='<U8'), array(['2'], dtype='<U8'), array(['5'], dtype='<U8'), array(['5'], dtype='<U8'), array(['5'], dtype='<U8'), array(['zero'], dtype='<U8'), array(['5'], dtype='<U8'), array(['5'], dtype='<U8'), array(['zero'], dtype='<U8')]\n",
      "[array(['2'], dtype='<U8'), array(['2'], dtype='<U8'), array(['zero'], dtype='<U8'), array(['5'], dtype='<U8'), array(['5'], dtype='<U8'), array(['5'], dtype='<U8'), array(['5'], dtype='<U8'), array(['5'], dtype='<U8'), array(['zero'], dtype='<U8'), array(['zero'], dtype='<U8'), array(['zero'], dtype='<U8'), array(['zero'], dtype='<U8'), array(['2'], dtype='<U8'), array(['2'], dtype='<U8'), array(['2'], dtype='<U8'), array(['2'], dtype='<U8'), array(['5'], dtype='<U8'), array(['2'], dtype='<U8'), array(['5'], dtype='<U8'), array(['5'], dtype='<U8'), array(['5'], dtype='<U8'), array(['zero'], dtype='<U8'), array(['5'], dtype='<U8'), array(['5'], dtype='<U8'), array(['zero'], dtype='<U8'), array(['5'], dtype='<U8')]\n",
      "[array(['2'], dtype='<U8'), array(['2'], dtype='<U8'), array(['zero'], dtype='<U8'), array(['5'], dtype='<U8'), array(['5'], dtype='<U8'), array(['5'], dtype='<U8'), array(['5'], dtype='<U8'), array(['5'], dtype='<U8'), array(['zero'], dtype='<U8'), array(['zero'], dtype='<U8'), array(['zero'], dtype='<U8'), array(['zero'], dtype='<U8'), array(['2'], dtype='<U8'), array(['2'], dtype='<U8'), array(['2'], dtype='<U8'), array(['2'], dtype='<U8'), array(['5'], dtype='<U8'), array(['2'], dtype='<U8'), array(['5'], dtype='<U8'), array(['5'], dtype='<U8'), array(['5'], dtype='<U8'), array(['zero'], dtype='<U8'), array(['5'], dtype='<U8'), array(['5'], dtype='<U8'), array(['zero'], dtype='<U8'), array(['5'], dtype='<U8'), array(['5'], dtype='<U8')]\n",
      "[array(['2'], dtype='<U8'), array(['2'], dtype='<U8'), array(['zero'], dtype='<U8'), array(['5'], dtype='<U8'), array(['5'], dtype='<U8'), array(['5'], dtype='<U8'), array(['5'], dtype='<U8'), array(['5'], dtype='<U8'), array(['zero'], dtype='<U8'), array(['zero'], dtype='<U8'), array(['zero'], dtype='<U8'), array(['zero'], dtype='<U8'), array(['2'], dtype='<U8'), array(['2'], dtype='<U8'), array(['2'], dtype='<U8'), array(['2'], dtype='<U8'), array(['5'], dtype='<U8'), array(['2'], dtype='<U8'), array(['5'], dtype='<U8'), array(['5'], dtype='<U8'), array(['5'], dtype='<U8'), array(['zero'], dtype='<U8'), array(['5'], dtype='<U8'), array(['5'], dtype='<U8'), array(['zero'], dtype='<U8'), array(['5'], dtype='<U8'), array(['5'], dtype='<U8'), array(['5'], dtype='<U8')]\n",
      "[array(['2'], dtype='<U8'), array(['2'], dtype='<U8'), array(['zero'], dtype='<U8'), array(['5'], dtype='<U8'), array(['5'], dtype='<U8'), array(['5'], dtype='<U8'), array(['5'], dtype='<U8'), array(['5'], dtype='<U8'), array(['zero'], dtype='<U8'), array(['zero'], dtype='<U8'), array(['zero'], dtype='<U8'), array(['zero'], dtype='<U8'), array(['2'], dtype='<U8'), array(['2'], dtype='<U8'), array(['2'], dtype='<U8'), array(['2'], dtype='<U8'), array(['5'], dtype='<U8'), array(['2'], dtype='<U8'), array(['5'], dtype='<U8'), array(['5'], dtype='<U8'), array(['5'], dtype='<U8'), array(['zero'], dtype='<U8'), array(['5'], dtype='<U8'), array(['5'], dtype='<U8'), array(['zero'], dtype='<U8'), array(['5'], dtype='<U8'), array(['5'], dtype='<U8'), array(['5'], dtype='<U8'), array(['5'], dtype='<U8')]\n",
      "[array(['2'], dtype='<U8'), array(['2'], dtype='<U8'), array(['zero'], dtype='<U8'), array(['5'], dtype='<U8'), array(['5'], dtype='<U8'), array(['5'], dtype='<U8'), array(['5'], dtype='<U8'), array(['5'], dtype='<U8'), array(['zero'], dtype='<U8'), array(['zero'], dtype='<U8'), array(['zero'], dtype='<U8'), array(['zero'], dtype='<U8'), array(['2'], dtype='<U8'), array(['2'], dtype='<U8'), array(['2'], dtype='<U8'), array(['2'], dtype='<U8'), array(['5'], dtype='<U8'), array(['2'], dtype='<U8'), array(['5'], dtype='<U8'), array(['5'], dtype='<U8'), array(['5'], dtype='<U8'), array(['zero'], dtype='<U8'), array(['5'], dtype='<U8'), array(['5'], dtype='<U8'), array(['zero'], dtype='<U8'), array(['5'], dtype='<U8'), array(['5'], dtype='<U8'), array(['5'], dtype='<U8'), array(['5'], dtype='<U8'), array(['5'], dtype='<U8')]\n",
      "[array(['2'], dtype='<U8'), array(['2'], dtype='<U8'), array(['zero'], dtype='<U8'), array(['5'], dtype='<U8'), array(['5'], dtype='<U8'), array(['5'], dtype='<U8'), array(['5'], dtype='<U8'), array(['5'], dtype='<U8'), array(['zero'], dtype='<U8'), array(['zero'], dtype='<U8'), array(['zero'], dtype='<U8'), array(['zero'], dtype='<U8'), array(['2'], dtype='<U8'), array(['2'], dtype='<U8'), array(['2'], dtype='<U8'), array(['2'], dtype='<U8'), array(['5'], dtype='<U8'), array(['2'], dtype='<U8'), array(['5'], dtype='<U8'), array(['5'], dtype='<U8'), array(['5'], dtype='<U8'), array(['zero'], dtype='<U8'), array(['5'], dtype='<U8'), array(['5'], dtype='<U8'), array(['zero'], dtype='<U8'), array(['5'], dtype='<U8'), array(['5'], dtype='<U8'), array(['5'], dtype='<U8'), array(['5'], dtype='<U8'), array(['5'], dtype='<U8'), array(['5'], dtype='<U8')]\n",
      "[array(['2'], dtype='<U8'), array(['2'], dtype='<U8'), array(['zero'], dtype='<U8'), array(['5'], dtype='<U8'), array(['5'], dtype='<U8'), array(['5'], dtype='<U8'), array(['5'], dtype='<U8'), array(['5'], dtype='<U8'), array(['zero'], dtype='<U8'), array(['zero'], dtype='<U8'), array(['zero'], dtype='<U8'), array(['zero'], dtype='<U8'), array(['2'], dtype='<U8'), array(['2'], dtype='<U8'), array(['2'], dtype='<U8'), array(['2'], dtype='<U8'), array(['5'], dtype='<U8'), array(['2'], dtype='<U8'), array(['5'], dtype='<U8'), array(['5'], dtype='<U8'), array(['5'], dtype='<U8'), array(['zero'], dtype='<U8'), array(['5'], dtype='<U8'), array(['5'], dtype='<U8'), array(['zero'], dtype='<U8'), array(['5'], dtype='<U8'), array(['5'], dtype='<U8'), array(['5'], dtype='<U8'), array(['5'], dtype='<U8'), array(['5'], dtype='<U8'), array(['5'], dtype='<U8'), array(['5'], dtype='<U8')]\n",
      "[array(['2'], dtype='<U8'), array(['2'], dtype='<U8'), array(['zero'], dtype='<U8'), array(['5'], dtype='<U8'), array(['5'], dtype='<U8'), array(['5'], dtype='<U8'), array(['5'], dtype='<U8'), array(['5'], dtype='<U8'), array(['zero'], dtype='<U8'), array(['zero'], dtype='<U8'), array(['zero'], dtype='<U8'), array(['zero'], dtype='<U8'), array(['2'], dtype='<U8'), array(['2'], dtype='<U8'), array(['2'], dtype='<U8'), array(['2'], dtype='<U8'), array(['5'], dtype='<U8'), array(['2'], dtype='<U8'), array(['5'], dtype='<U8'), array(['5'], dtype='<U8'), array(['5'], dtype='<U8'), array(['zero'], dtype='<U8'), array(['5'], dtype='<U8'), array(['5'], dtype='<U8'), array(['zero'], dtype='<U8'), array(['5'], dtype='<U8'), array(['5'], dtype='<U8'), array(['5'], dtype='<U8'), array(['5'], dtype='<U8'), array(['5'], dtype='<U8'), array(['5'], dtype='<U8'), array(['5'], dtype='<U8'), array(['5'], dtype='<U8')]\n",
      "[array(['2'], dtype='<U8'), array(['2'], dtype='<U8'), array(['zero'], dtype='<U8'), array(['5'], dtype='<U8'), array(['5'], dtype='<U8'), array(['5'], dtype='<U8'), array(['5'], dtype='<U8'), array(['5'], dtype='<U8'), array(['zero'], dtype='<U8'), array(['zero'], dtype='<U8'), array(['zero'], dtype='<U8'), array(['zero'], dtype='<U8'), array(['2'], dtype='<U8'), array(['2'], dtype='<U8'), array(['2'], dtype='<U8'), array(['2'], dtype='<U8'), array(['5'], dtype='<U8'), array(['2'], dtype='<U8'), array(['5'], dtype='<U8'), array(['5'], dtype='<U8'), array(['5'], dtype='<U8'), array(['zero'], dtype='<U8'), array(['5'], dtype='<U8'), array(['5'], dtype='<U8'), array(['zero'], dtype='<U8'), array(['5'], dtype='<U8'), array(['5'], dtype='<U8'), array(['5'], dtype='<U8'), array(['5'], dtype='<U8'), array(['5'], dtype='<U8'), array(['5'], dtype='<U8'), array(['5'], dtype='<U8'), array(['5'], dtype='<U8'), array(['2'], dtype='<U8')]\n",
      "[array(['2'], dtype='<U8'), array(['2'], dtype='<U8'), array(['zero'], dtype='<U8'), array(['5'], dtype='<U8'), array(['5'], dtype='<U8'), array(['5'], dtype='<U8'), array(['5'], dtype='<U8'), array(['5'], dtype='<U8'), array(['zero'], dtype='<U8'), array(['zero'], dtype='<U8'), array(['zero'], dtype='<U8'), array(['zero'], dtype='<U8'), array(['2'], dtype='<U8'), array(['2'], dtype='<U8'), array(['2'], dtype='<U8'), array(['2'], dtype='<U8'), array(['5'], dtype='<U8'), array(['2'], dtype='<U8'), array(['5'], dtype='<U8'), array(['5'], dtype='<U8'), array(['5'], dtype='<U8'), array(['zero'], dtype='<U8'), array(['5'], dtype='<U8'), array(['5'], dtype='<U8'), array(['zero'], dtype='<U8'), array(['5'], dtype='<U8'), array(['5'], dtype='<U8'), array(['5'], dtype='<U8'), array(['5'], dtype='<U8'), array(['5'], dtype='<U8'), array(['5'], dtype='<U8'), array(['5'], dtype='<U8'), array(['5'], dtype='<U8'), array(['2'], dtype='<U8'), array(['2'], dtype='<U8')]\n"
     ]
    },
    {
     "name": "stdout",
     "output_type": "stream",
     "text": [
      "[array(['2'], dtype='<U8'), array(['2'], dtype='<U8'), array(['zero'], dtype='<U8'), array(['5'], dtype='<U8'), array(['5'], dtype='<U8'), array(['5'], dtype='<U8'), array(['5'], dtype='<U8'), array(['5'], dtype='<U8'), array(['zero'], dtype='<U8'), array(['zero'], dtype='<U8'), array(['zero'], dtype='<U8'), array(['zero'], dtype='<U8'), array(['2'], dtype='<U8'), array(['2'], dtype='<U8'), array(['2'], dtype='<U8'), array(['2'], dtype='<U8'), array(['5'], dtype='<U8'), array(['2'], dtype='<U8'), array(['5'], dtype='<U8'), array(['5'], dtype='<U8'), array(['5'], dtype='<U8'), array(['zero'], dtype='<U8'), array(['5'], dtype='<U8'), array(['5'], dtype='<U8'), array(['zero'], dtype='<U8'), array(['5'], dtype='<U8'), array(['5'], dtype='<U8'), array(['5'], dtype='<U8'), array(['5'], dtype='<U8'), array(['5'], dtype='<U8'), array(['5'], dtype='<U8'), array(['5'], dtype='<U8'), array(['5'], dtype='<U8'), array(['2'], dtype='<U8'), array(['2'], dtype='<U8'), array(['zero'], dtype='<U8')]\n",
      "[array(['2'], dtype='<U8'), array(['2'], dtype='<U8'), array(['zero'], dtype='<U8'), array(['5'], dtype='<U8'), array(['5'], dtype='<U8'), array(['5'], dtype='<U8'), array(['5'], dtype='<U8'), array(['5'], dtype='<U8'), array(['zero'], dtype='<U8'), array(['zero'], dtype='<U8'), array(['zero'], dtype='<U8'), array(['zero'], dtype='<U8'), array(['2'], dtype='<U8'), array(['2'], dtype='<U8'), array(['2'], dtype='<U8'), array(['2'], dtype='<U8'), array(['5'], dtype='<U8'), array(['2'], dtype='<U8'), array(['5'], dtype='<U8'), array(['5'], dtype='<U8'), array(['5'], dtype='<U8'), array(['zero'], dtype='<U8'), array(['5'], dtype='<U8'), array(['5'], dtype='<U8'), array(['zero'], dtype='<U8'), array(['5'], dtype='<U8'), array(['5'], dtype='<U8'), array(['5'], dtype='<U8'), array(['5'], dtype='<U8'), array(['5'], dtype='<U8'), array(['5'], dtype='<U8'), array(['5'], dtype='<U8'), array(['5'], dtype='<U8'), array(['2'], dtype='<U8'), array(['2'], dtype='<U8'), array(['zero'], dtype='<U8'), array(['2'], dtype='<U8')]\n",
      "[array(['2'], dtype='<U8'), array(['2'], dtype='<U8'), array(['zero'], dtype='<U8'), array(['5'], dtype='<U8'), array(['5'], dtype='<U8'), array(['5'], dtype='<U8'), array(['5'], dtype='<U8'), array(['5'], dtype='<U8'), array(['zero'], dtype='<U8'), array(['zero'], dtype='<U8'), array(['zero'], dtype='<U8'), array(['zero'], dtype='<U8'), array(['2'], dtype='<U8'), array(['2'], dtype='<U8'), array(['2'], dtype='<U8'), array(['2'], dtype='<U8'), array(['5'], dtype='<U8'), array(['2'], dtype='<U8'), array(['5'], dtype='<U8'), array(['5'], dtype='<U8'), array(['5'], dtype='<U8'), array(['zero'], dtype='<U8'), array(['5'], dtype='<U8'), array(['5'], dtype='<U8'), array(['zero'], dtype='<U8'), array(['5'], dtype='<U8'), array(['5'], dtype='<U8'), array(['5'], dtype='<U8'), array(['5'], dtype='<U8'), array(['5'], dtype='<U8'), array(['5'], dtype='<U8'), array(['5'], dtype='<U8'), array(['5'], dtype='<U8'), array(['2'], dtype='<U8'), array(['2'], dtype='<U8'), array(['zero'], dtype='<U8'), array(['2'], dtype='<U8'), array(['2'], dtype='<U8')]\n",
      "[array(['2'], dtype='<U8'), array(['2'], dtype='<U8'), array(['zero'], dtype='<U8'), array(['5'], dtype='<U8'), array(['5'], dtype='<U8'), array(['5'], dtype='<U8'), array(['5'], dtype='<U8'), array(['5'], dtype='<U8'), array(['zero'], dtype='<U8'), array(['zero'], dtype='<U8'), array(['zero'], dtype='<U8'), array(['zero'], dtype='<U8'), array(['2'], dtype='<U8'), array(['2'], dtype='<U8'), array(['2'], dtype='<U8'), array(['2'], dtype='<U8'), array(['5'], dtype='<U8'), array(['2'], dtype='<U8'), array(['5'], dtype='<U8'), array(['5'], dtype='<U8'), array(['5'], dtype='<U8'), array(['zero'], dtype='<U8'), array(['5'], dtype='<U8'), array(['5'], dtype='<U8'), array(['zero'], dtype='<U8'), array(['5'], dtype='<U8'), array(['5'], dtype='<U8'), array(['5'], dtype='<U8'), array(['5'], dtype='<U8'), array(['5'], dtype='<U8'), array(['5'], dtype='<U8'), array(['5'], dtype='<U8'), array(['5'], dtype='<U8'), array(['2'], dtype='<U8'), array(['2'], dtype='<U8'), array(['zero'], dtype='<U8'), array(['2'], dtype='<U8'), array(['2'], dtype='<U8'), array(['2'], dtype='<U8')]\n",
      "[array(['2'], dtype='<U8'), array(['2'], dtype='<U8'), array(['zero'], dtype='<U8'), array(['5'], dtype='<U8'), array(['5'], dtype='<U8'), array(['5'], dtype='<U8'), array(['5'], dtype='<U8'), array(['5'], dtype='<U8'), array(['zero'], dtype='<U8'), array(['zero'], dtype='<U8'), array(['zero'], dtype='<U8'), array(['zero'], dtype='<U8'), array(['2'], dtype='<U8'), array(['2'], dtype='<U8'), array(['2'], dtype='<U8'), array(['2'], dtype='<U8'), array(['5'], dtype='<U8'), array(['2'], dtype='<U8'), array(['5'], dtype='<U8'), array(['5'], dtype='<U8'), array(['5'], dtype='<U8'), array(['zero'], dtype='<U8'), array(['5'], dtype='<U8'), array(['5'], dtype='<U8'), array(['zero'], dtype='<U8'), array(['5'], dtype='<U8'), array(['5'], dtype='<U8'), array(['5'], dtype='<U8'), array(['5'], dtype='<U8'), array(['5'], dtype='<U8'), array(['5'], dtype='<U8'), array(['5'], dtype='<U8'), array(['5'], dtype='<U8'), array(['2'], dtype='<U8'), array(['2'], dtype='<U8'), array(['zero'], dtype='<U8'), array(['2'], dtype='<U8'), array(['2'], dtype='<U8'), array(['2'], dtype='<U8'), array(['2'], dtype='<U8')]\n",
      "[array(['2'], dtype='<U8'), array(['2'], dtype='<U8'), array(['zero'], dtype='<U8'), array(['5'], dtype='<U8'), array(['5'], dtype='<U8'), array(['5'], dtype='<U8'), array(['5'], dtype='<U8'), array(['5'], dtype='<U8'), array(['zero'], dtype='<U8'), array(['zero'], dtype='<U8'), array(['zero'], dtype='<U8'), array(['zero'], dtype='<U8'), array(['2'], dtype='<U8'), array(['2'], dtype='<U8'), array(['2'], dtype='<U8'), array(['2'], dtype='<U8'), array(['5'], dtype='<U8'), array(['2'], dtype='<U8'), array(['5'], dtype='<U8'), array(['5'], dtype='<U8'), array(['5'], dtype='<U8'), array(['zero'], dtype='<U8'), array(['5'], dtype='<U8'), array(['5'], dtype='<U8'), array(['zero'], dtype='<U8'), array(['5'], dtype='<U8'), array(['5'], dtype='<U8'), array(['5'], dtype='<U8'), array(['5'], dtype='<U8'), array(['5'], dtype='<U8'), array(['5'], dtype='<U8'), array(['5'], dtype='<U8'), array(['5'], dtype='<U8'), array(['2'], dtype='<U8'), array(['2'], dtype='<U8'), array(['zero'], dtype='<U8'), array(['2'], dtype='<U8'), array(['2'], dtype='<U8'), array(['2'], dtype='<U8'), array(['2'], dtype='<U8'), array(['2'], dtype='<U8')]\n",
      "[array(['2'], dtype='<U8'), array(['2'], dtype='<U8'), array(['zero'], dtype='<U8'), array(['5'], dtype='<U8'), array(['5'], dtype='<U8'), array(['5'], dtype='<U8'), array(['5'], dtype='<U8'), array(['5'], dtype='<U8'), array(['zero'], dtype='<U8'), array(['zero'], dtype='<U8'), array(['zero'], dtype='<U8'), array(['zero'], dtype='<U8'), array(['2'], dtype='<U8'), array(['2'], dtype='<U8'), array(['2'], dtype='<U8'), array(['2'], dtype='<U8'), array(['5'], dtype='<U8'), array(['2'], dtype='<U8'), array(['5'], dtype='<U8'), array(['5'], dtype='<U8'), array(['5'], dtype='<U8'), array(['zero'], dtype='<U8'), array(['5'], dtype='<U8'), array(['5'], dtype='<U8'), array(['zero'], dtype='<U8'), array(['5'], dtype='<U8'), array(['5'], dtype='<U8'), array(['5'], dtype='<U8'), array(['5'], dtype='<U8'), array(['5'], dtype='<U8'), array(['5'], dtype='<U8'), array(['5'], dtype='<U8'), array(['5'], dtype='<U8'), array(['2'], dtype='<U8'), array(['2'], dtype='<U8'), array(['zero'], dtype='<U8'), array(['2'], dtype='<U8'), array(['2'], dtype='<U8'), array(['2'], dtype='<U8'), array(['2'], dtype='<U8'), array(['2'], dtype='<U8'), array(['2'], dtype='<U8')]\n",
      "[array(['2'], dtype='<U8'), array(['2'], dtype='<U8'), array(['zero'], dtype='<U8'), array(['5'], dtype='<U8'), array(['5'], dtype='<U8'), array(['5'], dtype='<U8'), array(['5'], dtype='<U8'), array(['5'], dtype='<U8'), array(['zero'], dtype='<U8'), array(['zero'], dtype='<U8'), array(['zero'], dtype='<U8'), array(['zero'], dtype='<U8'), array(['2'], dtype='<U8'), array(['2'], dtype='<U8'), array(['2'], dtype='<U8'), array(['2'], dtype='<U8'), array(['5'], dtype='<U8'), array(['2'], dtype='<U8'), array(['5'], dtype='<U8'), array(['5'], dtype='<U8'), array(['5'], dtype='<U8'), array(['zero'], dtype='<U8'), array(['5'], dtype='<U8'), array(['5'], dtype='<U8'), array(['zero'], dtype='<U8'), array(['5'], dtype='<U8'), array(['5'], dtype='<U8'), array(['5'], dtype='<U8'), array(['5'], dtype='<U8'), array(['5'], dtype='<U8'), array(['5'], dtype='<U8'), array(['5'], dtype='<U8'), array(['5'], dtype='<U8'), array(['2'], dtype='<U8'), array(['2'], dtype='<U8'), array(['zero'], dtype='<U8'), array(['2'], dtype='<U8'), array(['2'], dtype='<U8'), array(['2'], dtype='<U8'), array(['2'], dtype='<U8'), array(['2'], dtype='<U8'), array(['2'], dtype='<U8'), array(['2'], dtype='<U8')]\n"
     ]
    },
    {
     "name": "stdout",
     "output_type": "stream",
     "text": [
      "[array(['2'], dtype='<U8'), array(['2'], dtype='<U8'), array(['zero'], dtype='<U8'), array(['5'], dtype='<U8'), array(['5'], dtype='<U8'), array(['5'], dtype='<U8'), array(['5'], dtype='<U8'), array(['5'], dtype='<U8'), array(['zero'], dtype='<U8'), array(['zero'], dtype='<U8'), array(['zero'], dtype='<U8'), array(['zero'], dtype='<U8'), array(['2'], dtype='<U8'), array(['2'], dtype='<U8'), array(['2'], dtype='<U8'), array(['2'], dtype='<U8'), array(['5'], dtype='<U8'), array(['2'], dtype='<U8'), array(['5'], dtype='<U8'), array(['5'], dtype='<U8'), array(['5'], dtype='<U8'), array(['zero'], dtype='<U8'), array(['5'], dtype='<U8'), array(['5'], dtype='<U8'), array(['zero'], dtype='<U8'), array(['5'], dtype='<U8'), array(['5'], dtype='<U8'), array(['5'], dtype='<U8'), array(['5'], dtype='<U8'), array(['5'], dtype='<U8'), array(['5'], dtype='<U8'), array(['5'], dtype='<U8'), array(['5'], dtype='<U8'), array(['2'], dtype='<U8'), array(['2'], dtype='<U8'), array(['zero'], dtype='<U8'), array(['2'], dtype='<U8'), array(['2'], dtype='<U8'), array(['2'], dtype='<U8'), array(['2'], dtype='<U8'), array(['2'], dtype='<U8'), array(['2'], dtype='<U8'), array(['2'], dtype='<U8'), array(['5'], dtype='<U8')]\n",
      "[array(['2'], dtype='<U8'), array(['2'], dtype='<U8'), array(['zero'], dtype='<U8'), array(['5'], dtype='<U8'), array(['5'], dtype='<U8'), array(['5'], dtype='<U8'), array(['5'], dtype='<U8'), array(['5'], dtype='<U8'), array(['zero'], dtype='<U8'), array(['zero'], dtype='<U8'), array(['zero'], dtype='<U8'), array(['zero'], dtype='<U8'), array(['2'], dtype='<U8'), array(['2'], dtype='<U8'), array(['2'], dtype='<U8'), array(['2'], dtype='<U8'), array(['5'], dtype='<U8'), array(['2'], dtype='<U8'), array(['5'], dtype='<U8'), array(['5'], dtype='<U8'), array(['5'], dtype='<U8'), array(['zero'], dtype='<U8'), array(['5'], dtype='<U8'), array(['5'], dtype='<U8'), array(['zero'], dtype='<U8'), array(['5'], dtype='<U8'), array(['5'], dtype='<U8'), array(['5'], dtype='<U8'), array(['5'], dtype='<U8'), array(['5'], dtype='<U8'), array(['5'], dtype='<U8'), array(['5'], dtype='<U8'), array(['5'], dtype='<U8'), array(['2'], dtype='<U8'), array(['2'], dtype='<U8'), array(['zero'], dtype='<U8'), array(['2'], dtype='<U8'), array(['2'], dtype='<U8'), array(['2'], dtype='<U8'), array(['2'], dtype='<U8'), array(['2'], dtype='<U8'), array(['2'], dtype='<U8'), array(['2'], dtype='<U8'), array(['5'], dtype='<U8'), array(['2'], dtype='<U8')]\n",
      "[array(['2'], dtype='<U8'), array(['2'], dtype='<U8'), array(['zero'], dtype='<U8'), array(['5'], dtype='<U8'), array(['5'], dtype='<U8'), array(['5'], dtype='<U8'), array(['5'], dtype='<U8'), array(['5'], dtype='<U8'), array(['zero'], dtype='<U8'), array(['zero'], dtype='<U8'), array(['zero'], dtype='<U8'), array(['zero'], dtype='<U8'), array(['2'], dtype='<U8'), array(['2'], dtype='<U8'), array(['2'], dtype='<U8'), array(['2'], dtype='<U8'), array(['5'], dtype='<U8'), array(['2'], dtype='<U8'), array(['5'], dtype='<U8'), array(['5'], dtype='<U8'), array(['5'], dtype='<U8'), array(['zero'], dtype='<U8'), array(['5'], dtype='<U8'), array(['5'], dtype='<U8'), array(['zero'], dtype='<U8'), array(['5'], dtype='<U8'), array(['5'], dtype='<U8'), array(['5'], dtype='<U8'), array(['5'], dtype='<U8'), array(['5'], dtype='<U8'), array(['5'], dtype='<U8'), array(['5'], dtype='<U8'), array(['5'], dtype='<U8'), array(['2'], dtype='<U8'), array(['2'], dtype='<U8'), array(['zero'], dtype='<U8'), array(['2'], dtype='<U8'), array(['2'], dtype='<U8'), array(['2'], dtype='<U8'), array(['2'], dtype='<U8'), array(['2'], dtype='<U8'), array(['2'], dtype='<U8'), array(['2'], dtype='<U8'), array(['5'], dtype='<U8'), array(['2'], dtype='<U8'), array(['2'], dtype='<U8')]\n",
      "[array(['2'], dtype='<U8'), array(['2'], dtype='<U8'), array(['zero'], dtype='<U8'), array(['5'], dtype='<U8'), array(['5'], dtype='<U8'), array(['5'], dtype='<U8'), array(['5'], dtype='<U8'), array(['5'], dtype='<U8'), array(['zero'], dtype='<U8'), array(['zero'], dtype='<U8'), array(['zero'], dtype='<U8'), array(['zero'], dtype='<U8'), array(['2'], dtype='<U8'), array(['2'], dtype='<U8'), array(['2'], dtype='<U8'), array(['2'], dtype='<U8'), array(['5'], dtype='<U8'), array(['2'], dtype='<U8'), array(['5'], dtype='<U8'), array(['5'], dtype='<U8'), array(['5'], dtype='<U8'), array(['zero'], dtype='<U8'), array(['5'], dtype='<U8'), array(['5'], dtype='<U8'), array(['zero'], dtype='<U8'), array(['5'], dtype='<U8'), array(['5'], dtype='<U8'), array(['5'], dtype='<U8'), array(['5'], dtype='<U8'), array(['5'], dtype='<U8'), array(['5'], dtype='<U8'), array(['5'], dtype='<U8'), array(['5'], dtype='<U8'), array(['2'], dtype='<U8'), array(['2'], dtype='<U8'), array(['zero'], dtype='<U8'), array(['2'], dtype='<U8'), array(['2'], dtype='<U8'), array(['2'], dtype='<U8'), array(['2'], dtype='<U8'), array(['2'], dtype='<U8'), array(['2'], dtype='<U8'), array(['2'], dtype='<U8'), array(['5'], dtype='<U8'), array(['2'], dtype='<U8'), array(['2'], dtype='<U8'), array(['5'], dtype='<U8')]\n",
      "[array(['2'], dtype='<U8'), array(['2'], dtype='<U8'), array(['zero'], dtype='<U8'), array(['5'], dtype='<U8'), array(['5'], dtype='<U8'), array(['5'], dtype='<U8'), array(['5'], dtype='<U8'), array(['5'], dtype='<U8'), array(['zero'], dtype='<U8'), array(['zero'], dtype='<U8'), array(['zero'], dtype='<U8'), array(['zero'], dtype='<U8'), array(['2'], dtype='<U8'), array(['2'], dtype='<U8'), array(['2'], dtype='<U8'), array(['2'], dtype='<U8'), array(['5'], dtype='<U8'), array(['2'], dtype='<U8'), array(['5'], dtype='<U8'), array(['5'], dtype='<U8'), array(['5'], dtype='<U8'), array(['zero'], dtype='<U8'), array(['5'], dtype='<U8'), array(['5'], dtype='<U8'), array(['zero'], dtype='<U8'), array(['5'], dtype='<U8'), array(['5'], dtype='<U8'), array(['5'], dtype='<U8'), array(['5'], dtype='<U8'), array(['5'], dtype='<U8'), array(['5'], dtype='<U8'), array(['5'], dtype='<U8'), array(['5'], dtype='<U8'), array(['2'], dtype='<U8'), array(['2'], dtype='<U8'), array(['zero'], dtype='<U8'), array(['2'], dtype='<U8'), array(['2'], dtype='<U8'), array(['2'], dtype='<U8'), array(['2'], dtype='<U8'), array(['2'], dtype='<U8'), array(['2'], dtype='<U8'), array(['2'], dtype='<U8'), array(['5'], dtype='<U8'), array(['2'], dtype='<U8'), array(['2'], dtype='<U8'), array(['5'], dtype='<U8'), array(['5'], dtype='<U8')]\n",
      "[array(['2'], dtype='<U8'), array(['2'], dtype='<U8'), array(['zero'], dtype='<U8'), array(['5'], dtype='<U8'), array(['5'], dtype='<U8'), array(['5'], dtype='<U8'), array(['5'], dtype='<U8'), array(['5'], dtype='<U8'), array(['zero'], dtype='<U8'), array(['zero'], dtype='<U8'), array(['zero'], dtype='<U8'), array(['zero'], dtype='<U8'), array(['2'], dtype='<U8'), array(['2'], dtype='<U8'), array(['2'], dtype='<U8'), array(['2'], dtype='<U8'), array(['5'], dtype='<U8'), array(['2'], dtype='<U8'), array(['5'], dtype='<U8'), array(['5'], dtype='<U8'), array(['5'], dtype='<U8'), array(['zero'], dtype='<U8'), array(['5'], dtype='<U8'), array(['5'], dtype='<U8'), array(['zero'], dtype='<U8'), array(['5'], dtype='<U8'), array(['5'], dtype='<U8'), array(['5'], dtype='<U8'), array(['5'], dtype='<U8'), array(['5'], dtype='<U8'), array(['5'], dtype='<U8'), array(['5'], dtype='<U8'), array(['5'], dtype='<U8'), array(['2'], dtype='<U8'), array(['2'], dtype='<U8'), array(['zero'], dtype='<U8'), array(['2'], dtype='<U8'), array(['2'], dtype='<U8'), array(['2'], dtype='<U8'), array(['2'], dtype='<U8'), array(['2'], dtype='<U8'), array(['2'], dtype='<U8'), array(['2'], dtype='<U8'), array(['5'], dtype='<U8'), array(['2'], dtype='<U8'), array(['2'], dtype='<U8'), array(['5'], dtype='<U8'), array(['5'], dtype='<U8'), array(['5'], dtype='<U8')]\n",
      "[array(['2'], dtype='<U8'), array(['2'], dtype='<U8'), array(['zero'], dtype='<U8'), array(['5'], dtype='<U8'), array(['5'], dtype='<U8'), array(['5'], dtype='<U8'), array(['5'], dtype='<U8'), array(['5'], dtype='<U8'), array(['zero'], dtype='<U8'), array(['zero'], dtype='<U8'), array(['zero'], dtype='<U8'), array(['zero'], dtype='<U8'), array(['2'], dtype='<U8'), array(['2'], dtype='<U8'), array(['2'], dtype='<U8'), array(['2'], dtype='<U8'), array(['5'], dtype='<U8'), array(['2'], dtype='<U8'), array(['5'], dtype='<U8'), array(['5'], dtype='<U8'), array(['5'], dtype='<U8'), array(['zero'], dtype='<U8'), array(['5'], dtype='<U8'), array(['5'], dtype='<U8'), array(['zero'], dtype='<U8'), array(['5'], dtype='<U8'), array(['5'], dtype='<U8'), array(['5'], dtype='<U8'), array(['5'], dtype='<U8'), array(['5'], dtype='<U8'), array(['5'], dtype='<U8'), array(['5'], dtype='<U8'), array(['5'], dtype='<U8'), array(['2'], dtype='<U8'), array(['2'], dtype='<U8'), array(['zero'], dtype='<U8'), array(['2'], dtype='<U8'), array(['2'], dtype='<U8'), array(['2'], dtype='<U8'), array(['2'], dtype='<U8'), array(['2'], dtype='<U8'), array(['2'], dtype='<U8'), array(['2'], dtype='<U8'), array(['5'], dtype='<U8'), array(['2'], dtype='<U8'), array(['2'], dtype='<U8'), array(['5'], dtype='<U8'), array(['5'], dtype='<U8'), array(['5'], dtype='<U8'), array(['5'], dtype='<U8')]\n"
     ]
    },
    {
     "name": "stdout",
     "output_type": "stream",
     "text": [
      "[array(['2'], dtype='<U8'), array(['2'], dtype='<U8'), array(['zero'], dtype='<U8'), array(['5'], dtype='<U8'), array(['5'], dtype='<U8'), array(['5'], dtype='<U8'), array(['5'], dtype='<U8'), array(['5'], dtype='<U8'), array(['zero'], dtype='<U8'), array(['zero'], dtype='<U8'), array(['zero'], dtype='<U8'), array(['zero'], dtype='<U8'), array(['2'], dtype='<U8'), array(['2'], dtype='<U8'), array(['2'], dtype='<U8'), array(['2'], dtype='<U8'), array(['5'], dtype='<U8'), array(['2'], dtype='<U8'), array(['5'], dtype='<U8'), array(['5'], dtype='<U8'), array(['5'], dtype='<U8'), array(['zero'], dtype='<U8'), array(['5'], dtype='<U8'), array(['5'], dtype='<U8'), array(['zero'], dtype='<U8'), array(['5'], dtype='<U8'), array(['5'], dtype='<U8'), array(['5'], dtype='<U8'), array(['5'], dtype='<U8'), array(['5'], dtype='<U8'), array(['5'], dtype='<U8'), array(['5'], dtype='<U8'), array(['5'], dtype='<U8'), array(['2'], dtype='<U8'), array(['2'], dtype='<U8'), array(['zero'], dtype='<U8'), array(['2'], dtype='<U8'), array(['2'], dtype='<U8'), array(['2'], dtype='<U8'), array(['2'], dtype='<U8'), array(['2'], dtype='<U8'), array(['2'], dtype='<U8'), array(['2'], dtype='<U8'), array(['5'], dtype='<U8'), array(['2'], dtype='<U8'), array(['2'], dtype='<U8'), array(['5'], dtype='<U8'), array(['5'], dtype='<U8'), array(['5'], dtype='<U8'), array(['5'], dtype='<U8'), array(['5'], dtype='<U8')]\n",
      "[array(['2'], dtype='<U8'), array(['2'], dtype='<U8'), array(['zero'], dtype='<U8'), array(['5'], dtype='<U8'), array(['5'], dtype='<U8'), array(['5'], dtype='<U8'), array(['5'], dtype='<U8'), array(['5'], dtype='<U8'), array(['zero'], dtype='<U8'), array(['zero'], dtype='<U8'), array(['zero'], dtype='<U8'), array(['zero'], dtype='<U8'), array(['2'], dtype='<U8'), array(['2'], dtype='<U8'), array(['2'], dtype='<U8'), array(['2'], dtype='<U8'), array(['5'], dtype='<U8'), array(['2'], dtype='<U8'), array(['5'], dtype='<U8'), array(['5'], dtype='<U8'), array(['5'], dtype='<U8'), array(['zero'], dtype='<U8'), array(['5'], dtype='<U8'), array(['5'], dtype='<U8'), array(['zero'], dtype='<U8'), array(['5'], dtype='<U8'), array(['5'], dtype='<U8'), array(['5'], dtype='<U8'), array(['5'], dtype='<U8'), array(['5'], dtype='<U8'), array(['5'], dtype='<U8'), array(['5'], dtype='<U8'), array(['5'], dtype='<U8'), array(['2'], dtype='<U8'), array(['2'], dtype='<U8'), array(['zero'], dtype='<U8'), array(['2'], dtype='<U8'), array(['2'], dtype='<U8'), array(['2'], dtype='<U8'), array(['2'], dtype='<U8'), array(['2'], dtype='<U8'), array(['2'], dtype='<U8'), array(['2'], dtype='<U8'), array(['5'], dtype='<U8'), array(['2'], dtype='<U8'), array(['2'], dtype='<U8'), array(['5'], dtype='<U8'), array(['5'], dtype='<U8'), array(['5'], dtype='<U8'), array(['5'], dtype='<U8'), array(['5'], dtype='<U8'), array(['5'], dtype='<U8')]\n",
      "[array(['2'], dtype='<U8'), array(['2'], dtype='<U8'), array(['zero'], dtype='<U8'), array(['5'], dtype='<U8'), array(['5'], dtype='<U8'), array(['5'], dtype='<U8'), array(['5'], dtype='<U8'), array(['5'], dtype='<U8'), array(['zero'], dtype='<U8'), array(['zero'], dtype='<U8'), array(['zero'], dtype='<U8'), array(['zero'], dtype='<U8'), array(['2'], dtype='<U8'), array(['2'], dtype='<U8'), array(['2'], dtype='<U8'), array(['2'], dtype='<U8'), array(['5'], dtype='<U8'), array(['2'], dtype='<U8'), array(['5'], dtype='<U8'), array(['5'], dtype='<U8'), array(['5'], dtype='<U8'), array(['zero'], dtype='<U8'), array(['5'], dtype='<U8'), array(['5'], dtype='<U8'), array(['zero'], dtype='<U8'), array(['5'], dtype='<U8'), array(['5'], dtype='<U8'), array(['5'], dtype='<U8'), array(['5'], dtype='<U8'), array(['5'], dtype='<U8'), array(['5'], dtype='<U8'), array(['5'], dtype='<U8'), array(['5'], dtype='<U8'), array(['2'], dtype='<U8'), array(['2'], dtype='<U8'), array(['zero'], dtype='<U8'), array(['2'], dtype='<U8'), array(['2'], dtype='<U8'), array(['2'], dtype='<U8'), array(['2'], dtype='<U8'), array(['2'], dtype='<U8'), array(['2'], dtype='<U8'), array(['2'], dtype='<U8'), array(['5'], dtype='<U8'), array(['2'], dtype='<U8'), array(['2'], dtype='<U8'), array(['5'], dtype='<U8'), array(['5'], dtype='<U8'), array(['5'], dtype='<U8'), array(['5'], dtype='<U8'), array(['5'], dtype='<U8'), array(['5'], dtype='<U8'), array(['5'], dtype='<U8')]\n",
      "[array(['2'], dtype='<U8'), array(['2'], dtype='<U8'), array(['zero'], dtype='<U8'), array(['5'], dtype='<U8'), array(['5'], dtype='<U8'), array(['5'], dtype='<U8'), array(['5'], dtype='<U8'), array(['5'], dtype='<U8'), array(['zero'], dtype='<U8'), array(['zero'], dtype='<U8'), array(['zero'], dtype='<U8'), array(['zero'], dtype='<U8'), array(['2'], dtype='<U8'), array(['2'], dtype='<U8'), array(['2'], dtype='<U8'), array(['2'], dtype='<U8'), array(['5'], dtype='<U8'), array(['2'], dtype='<U8'), array(['5'], dtype='<U8'), array(['5'], dtype='<U8'), array(['5'], dtype='<U8'), array(['zero'], dtype='<U8'), array(['5'], dtype='<U8'), array(['5'], dtype='<U8'), array(['zero'], dtype='<U8'), array(['5'], dtype='<U8'), array(['5'], dtype='<U8'), array(['5'], dtype='<U8'), array(['5'], dtype='<U8'), array(['5'], dtype='<U8'), array(['5'], dtype='<U8'), array(['5'], dtype='<U8'), array(['5'], dtype='<U8'), array(['2'], dtype='<U8'), array(['2'], dtype='<U8'), array(['zero'], dtype='<U8'), array(['2'], dtype='<U8'), array(['2'], dtype='<U8'), array(['2'], dtype='<U8'), array(['2'], dtype='<U8'), array(['2'], dtype='<U8'), array(['2'], dtype='<U8'), array(['2'], dtype='<U8'), array(['5'], dtype='<U8'), array(['2'], dtype='<U8'), array(['2'], dtype='<U8'), array(['5'], dtype='<U8'), array(['5'], dtype='<U8'), array(['5'], dtype='<U8'), array(['5'], dtype='<U8'), array(['5'], dtype='<U8'), array(['5'], dtype='<U8'), array(['5'], dtype='<U8'), array(['5'], dtype='<U8')]\n",
      "[array(['2'], dtype='<U8'), array(['2'], dtype='<U8'), array(['zero'], dtype='<U8'), array(['5'], dtype='<U8'), array(['5'], dtype='<U8'), array(['5'], dtype='<U8'), array(['5'], dtype='<U8'), array(['5'], dtype='<U8'), array(['zero'], dtype='<U8'), array(['zero'], dtype='<U8'), array(['zero'], dtype='<U8'), array(['zero'], dtype='<U8'), array(['2'], dtype='<U8'), array(['2'], dtype='<U8'), array(['2'], dtype='<U8'), array(['2'], dtype='<U8'), array(['5'], dtype='<U8'), array(['2'], dtype='<U8'), array(['5'], dtype='<U8'), array(['5'], dtype='<U8'), array(['5'], dtype='<U8'), array(['zero'], dtype='<U8'), array(['5'], dtype='<U8'), array(['5'], dtype='<U8'), array(['zero'], dtype='<U8'), array(['5'], dtype='<U8'), array(['5'], dtype='<U8'), array(['5'], dtype='<U8'), array(['5'], dtype='<U8'), array(['5'], dtype='<U8'), array(['5'], dtype='<U8'), array(['5'], dtype='<U8'), array(['5'], dtype='<U8'), array(['2'], dtype='<U8'), array(['2'], dtype='<U8'), array(['zero'], dtype='<U8'), array(['2'], dtype='<U8'), array(['2'], dtype='<U8'), array(['2'], dtype='<U8'), array(['2'], dtype='<U8'), array(['2'], dtype='<U8'), array(['2'], dtype='<U8'), array(['2'], dtype='<U8'), array(['5'], dtype='<U8'), array(['2'], dtype='<U8'), array(['2'], dtype='<U8'), array(['5'], dtype='<U8'), array(['5'], dtype='<U8'), array(['5'], dtype='<U8'), array(['5'], dtype='<U8'), array(['5'], dtype='<U8'), array(['5'], dtype='<U8'), array(['5'], dtype='<U8'), array(['5'], dtype='<U8'), array(['5'], dtype='<U8')]\n",
      "[array(['2'], dtype='<U8'), array(['2'], dtype='<U8'), array(['zero'], dtype='<U8'), array(['5'], dtype='<U8'), array(['5'], dtype='<U8'), array(['5'], dtype='<U8'), array(['5'], dtype='<U8'), array(['5'], dtype='<U8'), array(['zero'], dtype='<U8'), array(['zero'], dtype='<U8'), array(['zero'], dtype='<U8'), array(['zero'], dtype='<U8'), array(['2'], dtype='<U8'), array(['2'], dtype='<U8'), array(['2'], dtype='<U8'), array(['2'], dtype='<U8'), array(['5'], dtype='<U8'), array(['2'], dtype='<U8'), array(['5'], dtype='<U8'), array(['5'], dtype='<U8'), array(['5'], dtype='<U8'), array(['zero'], dtype='<U8'), array(['5'], dtype='<U8'), array(['5'], dtype='<U8'), array(['zero'], dtype='<U8'), array(['5'], dtype='<U8'), array(['5'], dtype='<U8'), array(['5'], dtype='<U8'), array(['5'], dtype='<U8'), array(['5'], dtype='<U8'), array(['5'], dtype='<U8'), array(['5'], dtype='<U8'), array(['5'], dtype='<U8'), array(['2'], dtype='<U8'), array(['2'], dtype='<U8'), array(['zero'], dtype='<U8'), array(['2'], dtype='<U8'), array(['2'], dtype='<U8'), array(['2'], dtype='<U8'), array(['2'], dtype='<U8'), array(['2'], dtype='<U8'), array(['2'], dtype='<U8'), array(['2'], dtype='<U8'), array(['5'], dtype='<U8'), array(['2'], dtype='<U8'), array(['2'], dtype='<U8'), array(['5'], dtype='<U8'), array(['5'], dtype='<U8'), array(['5'], dtype='<U8'), array(['5'], dtype='<U8'), array(['5'], dtype='<U8'), array(['5'], dtype='<U8'), array(['5'], dtype='<U8'), array(['5'], dtype='<U8'), array(['5'], dtype='<U8'), array(['5'], dtype='<U8')]\n"
     ]
    },
    {
     "name": "stdout",
     "output_type": "stream",
     "text": [
      "[array(['2'], dtype='<U8'), array(['2'], dtype='<U8'), array(['zero'], dtype='<U8'), array(['5'], dtype='<U8'), array(['5'], dtype='<U8'), array(['5'], dtype='<U8'), array(['5'], dtype='<U8'), array(['5'], dtype='<U8'), array(['zero'], dtype='<U8'), array(['zero'], dtype='<U8'), array(['zero'], dtype='<U8'), array(['zero'], dtype='<U8'), array(['2'], dtype='<U8'), array(['2'], dtype='<U8'), array(['2'], dtype='<U8'), array(['2'], dtype='<U8'), array(['5'], dtype='<U8'), array(['2'], dtype='<U8'), array(['5'], dtype='<U8'), array(['5'], dtype='<U8'), array(['5'], dtype='<U8'), array(['zero'], dtype='<U8'), array(['5'], dtype='<U8'), array(['5'], dtype='<U8'), array(['zero'], dtype='<U8'), array(['5'], dtype='<U8'), array(['5'], dtype='<U8'), array(['5'], dtype='<U8'), array(['5'], dtype='<U8'), array(['5'], dtype='<U8'), array(['5'], dtype='<U8'), array(['5'], dtype='<U8'), array(['5'], dtype='<U8'), array(['2'], dtype='<U8'), array(['2'], dtype='<U8'), array(['zero'], dtype='<U8'), array(['2'], dtype='<U8'), array(['2'], dtype='<U8'), array(['2'], dtype='<U8'), array(['2'], dtype='<U8'), array(['2'], dtype='<U8'), array(['2'], dtype='<U8'), array(['2'], dtype='<U8'), array(['5'], dtype='<U8'), array(['2'], dtype='<U8'), array(['2'], dtype='<U8'), array(['5'], dtype='<U8'), array(['5'], dtype='<U8'), array(['5'], dtype='<U8'), array(['5'], dtype='<U8'), array(['5'], dtype='<U8'), array(['5'], dtype='<U8'), array(['5'], dtype='<U8'), array(['5'], dtype='<U8'), array(['5'], dtype='<U8'), array(['5'], dtype='<U8'), array(['2'], dtype='<U8')]\n",
      "[array(['2'], dtype='<U8'), array(['2'], dtype='<U8'), array(['zero'], dtype='<U8'), array(['5'], dtype='<U8'), array(['5'], dtype='<U8'), array(['5'], dtype='<U8'), array(['5'], dtype='<U8'), array(['5'], dtype='<U8'), array(['zero'], dtype='<U8'), array(['zero'], dtype='<U8'), array(['zero'], dtype='<U8'), array(['zero'], dtype='<U8'), array(['2'], dtype='<U8'), array(['2'], dtype='<U8'), array(['2'], dtype='<U8'), array(['2'], dtype='<U8'), array(['5'], dtype='<U8'), array(['2'], dtype='<U8'), array(['5'], dtype='<U8'), array(['5'], dtype='<U8'), array(['5'], dtype='<U8'), array(['zero'], dtype='<U8'), array(['5'], dtype='<U8'), array(['5'], dtype='<U8'), array(['zero'], dtype='<U8'), array(['5'], dtype='<U8'), array(['5'], dtype='<U8'), array(['5'], dtype='<U8'), array(['5'], dtype='<U8'), array(['5'], dtype='<U8'), array(['5'], dtype='<U8'), array(['5'], dtype='<U8'), array(['5'], dtype='<U8'), array(['2'], dtype='<U8'), array(['2'], dtype='<U8'), array(['zero'], dtype='<U8'), array(['2'], dtype='<U8'), array(['2'], dtype='<U8'), array(['2'], dtype='<U8'), array(['2'], dtype='<U8'), array(['2'], dtype='<U8'), array(['2'], dtype='<U8'), array(['2'], dtype='<U8'), array(['5'], dtype='<U8'), array(['2'], dtype='<U8'), array(['2'], dtype='<U8'), array(['5'], dtype='<U8'), array(['5'], dtype='<U8'), array(['5'], dtype='<U8'), array(['5'], dtype='<U8'), array(['5'], dtype='<U8'), array(['5'], dtype='<U8'), array(['5'], dtype='<U8'), array(['5'], dtype='<U8'), array(['5'], dtype='<U8'), array(['5'], dtype='<U8'), array(['2'], dtype='<U8'), array(['5'], dtype='<U8')]\n",
      "[array(['2'], dtype='<U8'), array(['2'], dtype='<U8'), array(['zero'], dtype='<U8'), array(['5'], dtype='<U8'), array(['5'], dtype='<U8'), array(['5'], dtype='<U8'), array(['5'], dtype='<U8'), array(['5'], dtype='<U8'), array(['zero'], dtype='<U8'), array(['zero'], dtype='<U8'), array(['zero'], dtype='<U8'), array(['zero'], dtype='<U8'), array(['2'], dtype='<U8'), array(['2'], dtype='<U8'), array(['2'], dtype='<U8'), array(['2'], dtype='<U8'), array(['5'], dtype='<U8'), array(['2'], dtype='<U8'), array(['5'], dtype='<U8'), array(['5'], dtype='<U8'), array(['5'], dtype='<U8'), array(['zero'], dtype='<U8'), array(['5'], dtype='<U8'), array(['5'], dtype='<U8'), array(['zero'], dtype='<U8'), array(['5'], dtype='<U8'), array(['5'], dtype='<U8'), array(['5'], dtype='<U8'), array(['5'], dtype='<U8'), array(['5'], dtype='<U8'), array(['5'], dtype='<U8'), array(['5'], dtype='<U8'), array(['5'], dtype='<U8'), array(['2'], dtype='<U8'), array(['2'], dtype='<U8'), array(['zero'], dtype='<U8'), array(['2'], dtype='<U8'), array(['2'], dtype='<U8'), array(['2'], dtype='<U8'), array(['2'], dtype='<U8'), array(['2'], dtype='<U8'), array(['2'], dtype='<U8'), array(['2'], dtype='<U8'), array(['5'], dtype='<U8'), array(['2'], dtype='<U8'), array(['2'], dtype='<U8'), array(['5'], dtype='<U8'), array(['5'], dtype='<U8'), array(['5'], dtype='<U8'), array(['5'], dtype='<U8'), array(['5'], dtype='<U8'), array(['5'], dtype='<U8'), array(['5'], dtype='<U8'), array(['5'], dtype='<U8'), array(['5'], dtype='<U8'), array(['5'], dtype='<U8'), array(['2'], dtype='<U8'), array(['5'], dtype='<U8'), array(['5'], dtype='<U8')]\n",
      "[array(['2'], dtype='<U8'), array(['2'], dtype='<U8'), array(['zero'], dtype='<U8'), array(['5'], dtype='<U8'), array(['5'], dtype='<U8'), array(['5'], dtype='<U8'), array(['5'], dtype='<U8'), array(['5'], dtype='<U8'), array(['zero'], dtype='<U8'), array(['zero'], dtype='<U8'), array(['zero'], dtype='<U8'), array(['zero'], dtype='<U8'), array(['2'], dtype='<U8'), array(['2'], dtype='<U8'), array(['2'], dtype='<U8'), array(['2'], dtype='<U8'), array(['5'], dtype='<U8'), array(['2'], dtype='<U8'), array(['5'], dtype='<U8'), array(['5'], dtype='<U8'), array(['5'], dtype='<U8'), array(['zero'], dtype='<U8'), array(['5'], dtype='<U8'), array(['5'], dtype='<U8'), array(['zero'], dtype='<U8'), array(['5'], dtype='<U8'), array(['5'], dtype='<U8'), array(['5'], dtype='<U8'), array(['5'], dtype='<U8'), array(['5'], dtype='<U8'), array(['5'], dtype='<U8'), array(['5'], dtype='<U8'), array(['5'], dtype='<U8'), array(['2'], dtype='<U8'), array(['2'], dtype='<U8'), array(['zero'], dtype='<U8'), array(['2'], dtype='<U8'), array(['2'], dtype='<U8'), array(['2'], dtype='<U8'), array(['2'], dtype='<U8'), array(['2'], dtype='<U8'), array(['2'], dtype='<U8'), array(['2'], dtype='<U8'), array(['5'], dtype='<U8'), array(['2'], dtype='<U8'), array(['2'], dtype='<U8'), array(['5'], dtype='<U8'), array(['5'], dtype='<U8'), array(['5'], dtype='<U8'), array(['5'], dtype='<U8'), array(['5'], dtype='<U8'), array(['5'], dtype='<U8'), array(['5'], dtype='<U8'), array(['5'], dtype='<U8'), array(['5'], dtype='<U8'), array(['5'], dtype='<U8'), array(['2'], dtype='<U8'), array(['5'], dtype='<U8'), array(['5'], dtype='<U8'), array(['5'], dtype='<U8')]\n",
      "[array(['2'], dtype='<U8'), array(['2'], dtype='<U8'), array(['zero'], dtype='<U8'), array(['5'], dtype='<U8'), array(['5'], dtype='<U8'), array(['5'], dtype='<U8'), array(['5'], dtype='<U8'), array(['5'], dtype='<U8'), array(['zero'], dtype='<U8'), array(['zero'], dtype='<U8'), array(['zero'], dtype='<U8'), array(['zero'], dtype='<U8'), array(['2'], dtype='<U8'), array(['2'], dtype='<U8'), array(['2'], dtype='<U8'), array(['2'], dtype='<U8'), array(['5'], dtype='<U8'), array(['2'], dtype='<U8'), array(['5'], dtype='<U8'), array(['5'], dtype='<U8'), array(['5'], dtype='<U8'), array(['zero'], dtype='<U8'), array(['5'], dtype='<U8'), array(['5'], dtype='<U8'), array(['zero'], dtype='<U8'), array(['5'], dtype='<U8'), array(['5'], dtype='<U8'), array(['5'], dtype='<U8'), array(['5'], dtype='<U8'), array(['5'], dtype='<U8'), array(['5'], dtype='<U8'), array(['5'], dtype='<U8'), array(['5'], dtype='<U8'), array(['2'], dtype='<U8'), array(['2'], dtype='<U8'), array(['zero'], dtype='<U8'), array(['2'], dtype='<U8'), array(['2'], dtype='<U8'), array(['2'], dtype='<U8'), array(['2'], dtype='<U8'), array(['2'], dtype='<U8'), array(['2'], dtype='<U8'), array(['2'], dtype='<U8'), array(['5'], dtype='<U8'), array(['2'], dtype='<U8'), array(['2'], dtype='<U8'), array(['5'], dtype='<U8'), array(['5'], dtype='<U8'), array(['5'], dtype='<U8'), array(['5'], dtype='<U8'), array(['5'], dtype='<U8'), array(['5'], dtype='<U8'), array(['5'], dtype='<U8'), array(['5'], dtype='<U8'), array(['5'], dtype='<U8'), array(['5'], dtype='<U8'), array(['2'], dtype='<U8'), array(['5'], dtype='<U8'), array(['5'], dtype='<U8'), array(['5'], dtype='<U8'), array(['5'], dtype='<U8')]\n",
      "[array(['2'], dtype='<U8'), array(['2'], dtype='<U8'), array(['zero'], dtype='<U8'), array(['5'], dtype='<U8'), array(['5'], dtype='<U8'), array(['5'], dtype='<U8'), array(['5'], dtype='<U8'), array(['5'], dtype='<U8'), array(['zero'], dtype='<U8'), array(['zero'], dtype='<U8'), array(['zero'], dtype='<U8'), array(['zero'], dtype='<U8'), array(['2'], dtype='<U8'), array(['2'], dtype='<U8'), array(['2'], dtype='<U8'), array(['2'], dtype='<U8'), array(['5'], dtype='<U8'), array(['2'], dtype='<U8'), array(['5'], dtype='<U8'), array(['5'], dtype='<U8'), array(['5'], dtype='<U8'), array(['zero'], dtype='<U8'), array(['5'], dtype='<U8'), array(['5'], dtype='<U8'), array(['zero'], dtype='<U8'), array(['5'], dtype='<U8'), array(['5'], dtype='<U8'), array(['5'], dtype='<U8'), array(['5'], dtype='<U8'), array(['5'], dtype='<U8'), array(['5'], dtype='<U8'), array(['5'], dtype='<U8'), array(['5'], dtype='<U8'), array(['2'], dtype='<U8'), array(['2'], dtype='<U8'), array(['zero'], dtype='<U8'), array(['2'], dtype='<U8'), array(['2'], dtype='<U8'), array(['2'], dtype='<U8'), array(['2'], dtype='<U8'), array(['2'], dtype='<U8'), array(['2'], dtype='<U8'), array(['2'], dtype='<U8'), array(['5'], dtype='<U8'), array(['2'], dtype='<U8'), array(['2'], dtype='<U8'), array(['5'], dtype='<U8'), array(['5'], dtype='<U8'), array(['5'], dtype='<U8'), array(['5'], dtype='<U8'), array(['5'], dtype='<U8'), array(['5'], dtype='<U8'), array(['5'], dtype='<U8'), array(['5'], dtype='<U8'), array(['5'], dtype='<U8'), array(['5'], dtype='<U8'), array(['2'], dtype='<U8'), array(['5'], dtype='<U8'), array(['5'], dtype='<U8'), array(['5'], dtype='<U8'), array(['5'], dtype='<U8'), array(['5'], dtype='<U8')]\n"
     ]
    },
    {
     "name": "stdout",
     "output_type": "stream",
     "text": [
      "[array(['2'], dtype='<U8'), array(['2'], dtype='<U8'), array(['zero'], dtype='<U8'), array(['5'], dtype='<U8'), array(['5'], dtype='<U8'), array(['5'], dtype='<U8'), array(['5'], dtype='<U8'), array(['5'], dtype='<U8'), array(['zero'], dtype='<U8'), array(['zero'], dtype='<U8'), array(['zero'], dtype='<U8'), array(['zero'], dtype='<U8'), array(['2'], dtype='<U8'), array(['2'], dtype='<U8'), array(['2'], dtype='<U8'), array(['2'], dtype='<U8'), array(['5'], dtype='<U8'), array(['2'], dtype='<U8'), array(['5'], dtype='<U8'), array(['5'], dtype='<U8'), array(['5'], dtype='<U8'), array(['zero'], dtype='<U8'), array(['5'], dtype='<U8'), array(['5'], dtype='<U8'), array(['zero'], dtype='<U8'), array(['5'], dtype='<U8'), array(['5'], dtype='<U8'), array(['5'], dtype='<U8'), array(['5'], dtype='<U8'), array(['5'], dtype='<U8'), array(['5'], dtype='<U8'), array(['5'], dtype='<U8'), array(['5'], dtype='<U8'), array(['2'], dtype='<U8'), array(['2'], dtype='<U8'), array(['zero'], dtype='<U8'), array(['2'], dtype='<U8'), array(['2'], dtype='<U8'), array(['2'], dtype='<U8'), array(['2'], dtype='<U8'), array(['2'], dtype='<U8'), array(['2'], dtype='<U8'), array(['2'], dtype='<U8'), array(['5'], dtype='<U8'), array(['2'], dtype='<U8'), array(['2'], dtype='<U8'), array(['5'], dtype='<U8'), array(['5'], dtype='<U8'), array(['5'], dtype='<U8'), array(['5'], dtype='<U8'), array(['5'], dtype='<U8'), array(['5'], dtype='<U8'), array(['5'], dtype='<U8'), array(['5'], dtype='<U8'), array(['5'], dtype='<U8'), array(['5'], dtype='<U8'), array(['2'], dtype='<U8'), array(['5'], dtype='<U8'), array(['5'], dtype='<U8'), array(['5'], dtype='<U8'), array(['5'], dtype='<U8'), array(['5'], dtype='<U8'), array(['5'], dtype='<U8')]\n",
      "[array(['2'], dtype='<U8'), array(['2'], dtype='<U8'), array(['zero'], dtype='<U8'), array(['5'], dtype='<U8'), array(['5'], dtype='<U8'), array(['5'], dtype='<U8'), array(['5'], dtype='<U8'), array(['5'], dtype='<U8'), array(['zero'], dtype='<U8'), array(['zero'], dtype='<U8'), array(['zero'], dtype='<U8'), array(['zero'], dtype='<U8'), array(['2'], dtype='<U8'), array(['2'], dtype='<U8'), array(['2'], dtype='<U8'), array(['2'], dtype='<U8'), array(['5'], dtype='<U8'), array(['2'], dtype='<U8'), array(['5'], dtype='<U8'), array(['5'], dtype='<U8'), array(['5'], dtype='<U8'), array(['zero'], dtype='<U8'), array(['5'], dtype='<U8'), array(['5'], dtype='<U8'), array(['zero'], dtype='<U8'), array(['5'], dtype='<U8'), array(['5'], dtype='<U8'), array(['5'], dtype='<U8'), array(['5'], dtype='<U8'), array(['5'], dtype='<U8'), array(['5'], dtype='<U8'), array(['5'], dtype='<U8'), array(['5'], dtype='<U8'), array(['2'], dtype='<U8'), array(['2'], dtype='<U8'), array(['zero'], dtype='<U8'), array(['2'], dtype='<U8'), array(['2'], dtype='<U8'), array(['2'], dtype='<U8'), array(['2'], dtype='<U8'), array(['2'], dtype='<U8'), array(['2'], dtype='<U8'), array(['2'], dtype='<U8'), array(['5'], dtype='<U8'), array(['2'], dtype='<U8'), array(['2'], dtype='<U8'), array(['5'], dtype='<U8'), array(['5'], dtype='<U8'), array(['5'], dtype='<U8'), array(['5'], dtype='<U8'), array(['5'], dtype='<U8'), array(['5'], dtype='<U8'), array(['5'], dtype='<U8'), array(['5'], dtype='<U8'), array(['5'], dtype='<U8'), array(['5'], dtype='<U8'), array(['2'], dtype='<U8'), array(['5'], dtype='<U8'), array(['5'], dtype='<U8'), array(['5'], dtype='<U8'), array(['5'], dtype='<U8'), array(['5'], dtype='<U8'), array(['5'], dtype='<U8'), array(['5'], dtype='<U8')]\n",
      "[array(['2'], dtype='<U8'), array(['2'], dtype='<U8'), array(['zero'], dtype='<U8'), array(['5'], dtype='<U8'), array(['5'], dtype='<U8'), array(['5'], dtype='<U8'), array(['5'], dtype='<U8'), array(['5'], dtype='<U8'), array(['zero'], dtype='<U8'), array(['zero'], dtype='<U8'), array(['zero'], dtype='<U8'), array(['zero'], dtype='<U8'), array(['2'], dtype='<U8'), array(['2'], dtype='<U8'), array(['2'], dtype='<U8'), array(['2'], dtype='<U8'), array(['5'], dtype='<U8'), array(['2'], dtype='<U8'), array(['5'], dtype='<U8'), array(['5'], dtype='<U8'), array(['5'], dtype='<U8'), array(['zero'], dtype='<U8'), array(['5'], dtype='<U8'), array(['5'], dtype='<U8'), array(['zero'], dtype='<U8'), array(['5'], dtype='<U8'), array(['5'], dtype='<U8'), array(['5'], dtype='<U8'), array(['5'], dtype='<U8'), array(['5'], dtype='<U8'), array(['5'], dtype='<U8'), array(['5'], dtype='<U8'), array(['5'], dtype='<U8'), array(['2'], dtype='<U8'), array(['2'], dtype='<U8'), array(['zero'], dtype='<U8'), array(['2'], dtype='<U8'), array(['2'], dtype='<U8'), array(['2'], dtype='<U8'), array(['2'], dtype='<U8'), array(['2'], dtype='<U8'), array(['2'], dtype='<U8'), array(['2'], dtype='<U8'), array(['5'], dtype='<U8'), array(['2'], dtype='<U8'), array(['2'], dtype='<U8'), array(['5'], dtype='<U8'), array(['5'], dtype='<U8'), array(['5'], dtype='<U8'), array(['5'], dtype='<U8'), array(['5'], dtype='<U8'), array(['5'], dtype='<U8'), array(['5'], dtype='<U8'), array(['5'], dtype='<U8'), array(['5'], dtype='<U8'), array(['5'], dtype='<U8'), array(['2'], dtype='<U8'), array(['5'], dtype='<U8'), array(['5'], dtype='<U8'), array(['5'], dtype='<U8'), array(['5'], dtype='<U8'), array(['5'], dtype='<U8'), array(['5'], dtype='<U8'), array(['5'], dtype='<U8'), array(['5'], dtype='<U8')]\n",
      "[array(['2'], dtype='<U8'), array(['2'], dtype='<U8'), array(['zero'], dtype='<U8'), array(['5'], dtype='<U8'), array(['5'], dtype='<U8'), array(['5'], dtype='<U8'), array(['5'], dtype='<U8'), array(['5'], dtype='<U8'), array(['zero'], dtype='<U8'), array(['zero'], dtype='<U8'), array(['zero'], dtype='<U8'), array(['zero'], dtype='<U8'), array(['2'], dtype='<U8'), array(['2'], dtype='<U8'), array(['2'], dtype='<U8'), array(['2'], dtype='<U8'), array(['5'], dtype='<U8'), array(['2'], dtype='<U8'), array(['5'], dtype='<U8'), array(['5'], dtype='<U8'), array(['5'], dtype='<U8'), array(['zero'], dtype='<U8'), array(['5'], dtype='<U8'), array(['5'], dtype='<U8'), array(['zero'], dtype='<U8'), array(['5'], dtype='<U8'), array(['5'], dtype='<U8'), array(['5'], dtype='<U8'), array(['5'], dtype='<U8'), array(['5'], dtype='<U8'), array(['5'], dtype='<U8'), array(['5'], dtype='<U8'), array(['5'], dtype='<U8'), array(['2'], dtype='<U8'), array(['2'], dtype='<U8'), array(['zero'], dtype='<U8'), array(['2'], dtype='<U8'), array(['2'], dtype='<U8'), array(['2'], dtype='<U8'), array(['2'], dtype='<U8'), array(['2'], dtype='<U8'), array(['2'], dtype='<U8'), array(['2'], dtype='<U8'), array(['5'], dtype='<U8'), array(['2'], dtype='<U8'), array(['2'], dtype='<U8'), array(['5'], dtype='<U8'), array(['5'], dtype='<U8'), array(['5'], dtype='<U8'), array(['5'], dtype='<U8'), array(['5'], dtype='<U8'), array(['5'], dtype='<U8'), array(['5'], dtype='<U8'), array(['5'], dtype='<U8'), array(['5'], dtype='<U8'), array(['5'], dtype='<U8'), array(['2'], dtype='<U8'), array(['5'], dtype='<U8'), array(['5'], dtype='<U8'), array(['5'], dtype='<U8'), array(['5'], dtype='<U8'), array(['5'], dtype='<U8'), array(['5'], dtype='<U8'), array(['5'], dtype='<U8'), array(['5'], dtype='<U8'), array(['5'], dtype='<U8')]\n",
      "[array(['2'], dtype='<U8'), array(['2'], dtype='<U8'), array(['zero'], dtype='<U8'), array(['5'], dtype='<U8'), array(['5'], dtype='<U8'), array(['5'], dtype='<U8'), array(['5'], dtype='<U8'), array(['5'], dtype='<U8'), array(['zero'], dtype='<U8'), array(['zero'], dtype='<U8'), array(['zero'], dtype='<U8'), array(['zero'], dtype='<U8'), array(['2'], dtype='<U8'), array(['2'], dtype='<U8'), array(['2'], dtype='<U8'), array(['2'], dtype='<U8'), array(['5'], dtype='<U8'), array(['2'], dtype='<U8'), array(['5'], dtype='<U8'), array(['5'], dtype='<U8'), array(['5'], dtype='<U8'), array(['zero'], dtype='<U8'), array(['5'], dtype='<U8'), array(['5'], dtype='<U8'), array(['zero'], dtype='<U8'), array(['5'], dtype='<U8'), array(['5'], dtype='<U8'), array(['5'], dtype='<U8'), array(['5'], dtype='<U8'), array(['5'], dtype='<U8'), array(['5'], dtype='<U8'), array(['5'], dtype='<U8'), array(['5'], dtype='<U8'), array(['2'], dtype='<U8'), array(['2'], dtype='<U8'), array(['zero'], dtype='<U8'), array(['2'], dtype='<U8'), array(['2'], dtype='<U8'), array(['2'], dtype='<U8'), array(['2'], dtype='<U8'), array(['2'], dtype='<U8'), array(['2'], dtype='<U8'), array(['2'], dtype='<U8'), array(['5'], dtype='<U8'), array(['2'], dtype='<U8'), array(['2'], dtype='<U8'), array(['5'], dtype='<U8'), array(['5'], dtype='<U8'), array(['5'], dtype='<U8'), array(['5'], dtype='<U8'), array(['5'], dtype='<U8'), array(['5'], dtype='<U8'), array(['5'], dtype='<U8'), array(['5'], dtype='<U8'), array(['5'], dtype='<U8'), array(['5'], dtype='<U8'), array(['2'], dtype='<U8'), array(['5'], dtype='<U8'), array(['5'], dtype='<U8'), array(['5'], dtype='<U8'), array(['5'], dtype='<U8'), array(['5'], dtype='<U8'), array(['5'], dtype='<U8'), array(['5'], dtype='<U8'), array(['5'], dtype='<U8'), array(['5'], dtype='<U8'), array(['5'], dtype='<U8')]\n"
     ]
    },
    {
     "name": "stdout",
     "output_type": "stream",
     "text": [
      "[array(['2'], dtype='<U8'), array(['2'], dtype='<U8'), array(['zero'], dtype='<U8'), array(['5'], dtype='<U8'), array(['5'], dtype='<U8'), array(['5'], dtype='<U8'), array(['5'], dtype='<U8'), array(['5'], dtype='<U8'), array(['zero'], dtype='<U8'), array(['zero'], dtype='<U8'), array(['zero'], dtype='<U8'), array(['zero'], dtype='<U8'), array(['2'], dtype='<U8'), array(['2'], dtype='<U8'), array(['2'], dtype='<U8'), array(['2'], dtype='<U8'), array(['5'], dtype='<U8'), array(['2'], dtype='<U8'), array(['5'], dtype='<U8'), array(['5'], dtype='<U8'), array(['5'], dtype='<U8'), array(['zero'], dtype='<U8'), array(['5'], dtype='<U8'), array(['5'], dtype='<U8'), array(['zero'], dtype='<U8'), array(['5'], dtype='<U8'), array(['5'], dtype='<U8'), array(['5'], dtype='<U8'), array(['5'], dtype='<U8'), array(['5'], dtype='<U8'), array(['5'], dtype='<U8'), array(['5'], dtype='<U8'), array(['5'], dtype='<U8'), array(['2'], dtype='<U8'), array(['2'], dtype='<U8'), array(['zero'], dtype='<U8'), array(['2'], dtype='<U8'), array(['2'], dtype='<U8'), array(['2'], dtype='<U8'), array(['2'], dtype='<U8'), array(['2'], dtype='<U8'), array(['2'], dtype='<U8'), array(['2'], dtype='<U8'), array(['5'], dtype='<U8'), array(['2'], dtype='<U8'), array(['2'], dtype='<U8'), array(['5'], dtype='<U8'), array(['5'], dtype='<U8'), array(['5'], dtype='<U8'), array(['5'], dtype='<U8'), array(['5'], dtype='<U8'), array(['5'], dtype='<U8'), array(['5'], dtype='<U8'), array(['5'], dtype='<U8'), array(['5'], dtype='<U8'), array(['5'], dtype='<U8'), array(['2'], dtype='<U8'), array(['5'], dtype='<U8'), array(['5'], dtype='<U8'), array(['5'], dtype='<U8'), array(['5'], dtype='<U8'), array(['5'], dtype='<U8'), array(['5'], dtype='<U8'), array(['5'], dtype='<U8'), array(['5'], dtype='<U8'), array(['5'], dtype='<U8'), array(['5'], dtype='<U8'), array(['5'], dtype='<U8')]\n",
      "[array(['2'], dtype='<U8'), array(['2'], dtype='<U8'), array(['zero'], dtype='<U8'), array(['5'], dtype='<U8'), array(['5'], dtype='<U8'), array(['5'], dtype='<U8'), array(['5'], dtype='<U8'), array(['5'], dtype='<U8'), array(['zero'], dtype='<U8'), array(['zero'], dtype='<U8'), array(['zero'], dtype='<U8'), array(['zero'], dtype='<U8'), array(['2'], dtype='<U8'), array(['2'], dtype='<U8'), array(['2'], dtype='<U8'), array(['2'], dtype='<U8'), array(['5'], dtype='<U8'), array(['2'], dtype='<U8'), array(['5'], dtype='<U8'), array(['5'], dtype='<U8'), array(['5'], dtype='<U8'), array(['zero'], dtype='<U8'), array(['5'], dtype='<U8'), array(['5'], dtype='<U8'), array(['zero'], dtype='<U8'), array(['5'], dtype='<U8'), array(['5'], dtype='<U8'), array(['5'], dtype='<U8'), array(['5'], dtype='<U8'), array(['5'], dtype='<U8'), array(['5'], dtype='<U8'), array(['5'], dtype='<U8'), array(['5'], dtype='<U8'), array(['2'], dtype='<U8'), array(['2'], dtype='<U8'), array(['zero'], dtype='<U8'), array(['2'], dtype='<U8'), array(['2'], dtype='<U8'), array(['2'], dtype='<U8'), array(['2'], dtype='<U8'), array(['2'], dtype='<U8'), array(['2'], dtype='<U8'), array(['2'], dtype='<U8'), array(['5'], dtype='<U8'), array(['2'], dtype='<U8'), array(['2'], dtype='<U8'), array(['5'], dtype='<U8'), array(['5'], dtype='<U8'), array(['5'], dtype='<U8'), array(['5'], dtype='<U8'), array(['5'], dtype='<U8'), array(['5'], dtype='<U8'), array(['5'], dtype='<U8'), array(['5'], dtype='<U8'), array(['5'], dtype='<U8'), array(['5'], dtype='<U8'), array(['2'], dtype='<U8'), array(['5'], dtype='<U8'), array(['5'], dtype='<U8'), array(['5'], dtype='<U8'), array(['5'], dtype='<U8'), array(['5'], dtype='<U8'), array(['5'], dtype='<U8'), array(['5'], dtype='<U8'), array(['5'], dtype='<U8'), array(['5'], dtype='<U8'), array(['5'], dtype='<U8'), array(['5'], dtype='<U8'), array(['5'], dtype='<U8')]\n"
     ]
    }
   ],
   "source": [
    "mylist =[]\n",
    "for filename in glob.glob('test_resize/2/*.png'):\n",
    "    frame = cv2.imread(filename)\n",
    "    frame = cv2.resize(frame, (331,331))\n",
    "    x = np.expand_dims(frame, axis=0)\n",
    "    x = preprocess_input(x)\n",
    "    feature = model.predict(x)\n",
    "    feature = np.reshape(feature, (-1,4032))\n",
    "    text = neigh.predict(feature)\n",
    "    mylist.append(text)\n",
    "    #a = np.array(text)\n",
    "    print(mylist)\n",
    "    #cv2.putText(frame,  text, (30, 30), cv2.FONT_HERSHEY_SIMPLEX, 1.0, (0, 0, 255), lineType=cv2.LINE_AA)\n",
    "    #cv2.imshow('Webcam'+str(filename), frame)\n",
    "    #cv2.waitKey(0)\n",
    "#cv2.destroyAllWindows() "
   ]
  },
  {
   "cell_type": "code",
   "execution_count": 6,
   "metadata": {},
   "outputs": [],
   "source": [
    "a = np.array(mylist)"
   ]
  },
  {
   "cell_type": "code",
   "execution_count": 7,
   "metadata": {},
   "outputs": [
    {
     "name": "stdout",
     "output_type": "stream",
     "text": [
      "69\n"
     ]
    }
   ],
   "source": [
    "print(len(a))"
   ]
  },
  {
   "cell_type": "code",
   "execution_count": 8,
   "metadata": {
    "scrolled": true
   },
   "outputs": [
    {
     "name": "stdout",
     "output_type": "stream",
     "text": [
      "[array(['2'], dtype='<U8'), array(['2'], dtype='<U8'), array(['zero'], dtype='<U8'), array(['5'], dtype='<U8'), array(['5'], dtype='<U8'), array(['5'], dtype='<U8'), array(['5'], dtype='<U8'), array(['5'], dtype='<U8'), array(['zero'], dtype='<U8'), array(['zero'], dtype='<U8'), array(['zero'], dtype='<U8'), array(['zero'], dtype='<U8'), array(['2'], dtype='<U8'), array(['2'], dtype='<U8'), array(['2'], dtype='<U8'), array(['2'], dtype='<U8'), array(['5'], dtype='<U8'), array(['2'], dtype='<U8'), array(['5'], dtype='<U8'), array(['5'], dtype='<U8'), array(['5'], dtype='<U8'), array(['zero'], dtype='<U8'), array(['5'], dtype='<U8'), array(['5'], dtype='<U8'), array(['zero'], dtype='<U8'), array(['5'], dtype='<U8'), array(['5'], dtype='<U8'), array(['5'], dtype='<U8'), array(['5'], dtype='<U8'), array(['5'], dtype='<U8'), array(['5'], dtype='<U8'), array(['5'], dtype='<U8'), array(['5'], dtype='<U8'), array(['2'], dtype='<U8'), array(['2'], dtype='<U8'), array(['zero'], dtype='<U8'), array(['2'], dtype='<U8'), array(['2'], dtype='<U8'), array(['2'], dtype='<U8'), array(['2'], dtype='<U8'), array(['2'], dtype='<U8'), array(['2'], dtype='<U8'), array(['2'], dtype='<U8'), array(['5'], dtype='<U8'), array(['2'], dtype='<U8'), array(['2'], dtype='<U8'), array(['5'], dtype='<U8'), array(['5'], dtype='<U8'), array(['5'], dtype='<U8'), array(['5'], dtype='<U8'), array(['5'], dtype='<U8'), array(['5'], dtype='<U8'), array(['5'], dtype='<U8'), array(['5'], dtype='<U8'), array(['5'], dtype='<U8'), array(['5'], dtype='<U8'), array(['2'], dtype='<U8'), array(['5'], dtype='<U8'), array(['5'], dtype='<U8'), array(['5'], dtype='<U8'), array(['5'], dtype='<U8'), array(['5'], dtype='<U8'), array(['5'], dtype='<U8'), array(['5'], dtype='<U8'), array(['5'], dtype='<U8'), array(['5'], dtype='<U8'), array(['5'], dtype='<U8'), array(['5'], dtype='<U8'), array(['5'], dtype='<U8'), array(['negative'], dtype='<U8'), array(['5'], dtype='<U8'), array(['5'], dtype='<U8'), array(['2'], dtype='<U8'), array(['5'], dtype='<U8'), array(['5'], dtype='<U8'), array(['5'], dtype='<U8'), array(['5'], dtype='<U8'), array(['5'], dtype='<U8'), array(['5'], dtype='<U8'), array(['5'], dtype='<U8'), array(['5'], dtype='<U8'), array(['5'], dtype='<U8'), array(['5'], dtype='<U8'), array(['negative'], dtype='<U8'), array(['5'], dtype='<U8'), array(['5'], dtype='<U8'), array(['5'], dtype='<U8'), array(['5'], dtype='<U8'), array(['2'], dtype='<U8'), array(['5'], dtype='<U8'), array(['5'], dtype='<U8'), array(['5'], dtype='<U8'), array(['5'], dtype='<U8'), array(['5'], dtype='<U8'), array(['5'], dtype='<U8'), array(['5'], dtype='<U8'), array(['5'], dtype='<U8'), array(['5'], dtype='<U8'), array(['5'], dtype='<U8'), array(['5'], dtype='<U8'), array(['5'], dtype='<U8'), array(['5'], dtype='<U8'), array(['5'], dtype='<U8'), array(['5'], dtype='<U8'), array(['2'], dtype='<U8'), array(['5'], dtype='<U8'), array(['5'], dtype='<U8'), array(['5'], dtype='<U8'), array(['5'], dtype='<U8'), array(['5'], dtype='<U8'), array(['2'], dtype='<U8'), array(['2'], dtype='<U8'), array(['5'], dtype='<U8'), array(['2'], dtype='<U8'), array(['5'], dtype='<U8'), array(['5'], dtype='<U8'), array(['5'], dtype='<U8'), array(['5'], dtype='<U8'), array(['5'], dtype='<U8'), array(['5'], dtype='<U8'), array(['5'], dtype='<U8'), array(['5'], dtype='<U8'), array(['5'], dtype='<U8'), array(['2'], dtype='<U8'), array(['2'], dtype='<U8'), array(['5'], dtype='<U8'), array(['5'], dtype='<U8'), array(['5'], dtype='<U8'), array(['5'], dtype='<U8'), array(['5'], dtype='<U8'), array(['2'], dtype='<U8'), array(['5'], dtype='<U8'), array(['5'], dtype='<U8'), array(['5'], dtype='<U8')]\n"
     ]
    }
   ],
   "source": [
    "for filename in glob.glob('test_resize/5/*.png'):\n",
    "    frame = cv2.imread(filename)\n",
    "    frame = cv2.resize(frame, (331,331))\n",
    "    x = np.expand_dims(frame, axis=0)\n",
    "    x = preprocess_input(x)\n",
    "    feature = model.predict(x)\n",
    "    feature = np.reshape(feature, (-1,4032))\n",
    "    text = neigh.predict(feature)\n",
    "    mylist.append(text)\n",
    "print(mylist)"
   ]
  },
  {
   "cell_type": "code",
   "execution_count": 9,
   "metadata": {},
   "outputs": [
    {
     "name": "stdout",
     "output_type": "stream",
     "text": [
      "134\n"
     ]
    }
   ],
   "source": [
    "a1 = np.array(mylist)\n",
    "print(len(a1))"
   ]
  },
  {
   "cell_type": "code",
   "execution_count": 10,
   "metadata": {
    "scrolled": true
   },
   "outputs": [
    {
     "name": "stdout",
     "output_type": "stream",
     "text": [
      "[array(['2'], dtype='<U8'), array(['2'], dtype='<U8'), array(['zero'], dtype='<U8'), array(['5'], dtype='<U8'), array(['5'], dtype='<U8'), array(['5'], dtype='<U8'), array(['5'], dtype='<U8'), array(['5'], dtype='<U8'), array(['zero'], dtype='<U8'), array(['zero'], dtype='<U8'), array(['zero'], dtype='<U8'), array(['zero'], dtype='<U8'), array(['2'], dtype='<U8'), array(['2'], dtype='<U8'), array(['2'], dtype='<U8'), array(['2'], dtype='<U8'), array(['5'], dtype='<U8'), array(['2'], dtype='<U8'), array(['5'], dtype='<U8'), array(['5'], dtype='<U8'), array(['5'], dtype='<U8'), array(['zero'], dtype='<U8'), array(['5'], dtype='<U8'), array(['5'], dtype='<U8'), array(['zero'], dtype='<U8'), array(['5'], dtype='<U8'), array(['5'], dtype='<U8'), array(['5'], dtype='<U8'), array(['5'], dtype='<U8'), array(['5'], dtype='<U8'), array(['5'], dtype='<U8'), array(['5'], dtype='<U8'), array(['5'], dtype='<U8'), array(['2'], dtype='<U8'), array(['2'], dtype='<U8'), array(['zero'], dtype='<U8'), array(['2'], dtype='<U8'), array(['2'], dtype='<U8'), array(['2'], dtype='<U8'), array(['2'], dtype='<U8'), array(['2'], dtype='<U8'), array(['2'], dtype='<U8'), array(['2'], dtype='<U8'), array(['5'], dtype='<U8'), array(['2'], dtype='<U8'), array(['2'], dtype='<U8'), array(['5'], dtype='<U8'), array(['5'], dtype='<U8'), array(['5'], dtype='<U8'), array(['5'], dtype='<U8'), array(['5'], dtype='<U8'), array(['5'], dtype='<U8'), array(['5'], dtype='<U8'), array(['5'], dtype='<U8'), array(['5'], dtype='<U8'), array(['5'], dtype='<U8'), array(['2'], dtype='<U8'), array(['5'], dtype='<U8'), array(['5'], dtype='<U8'), array(['5'], dtype='<U8'), array(['5'], dtype='<U8'), array(['5'], dtype='<U8'), array(['5'], dtype='<U8'), array(['5'], dtype='<U8'), array(['5'], dtype='<U8'), array(['5'], dtype='<U8'), array(['5'], dtype='<U8'), array(['5'], dtype='<U8'), array(['5'], dtype='<U8'), array(['negative'], dtype='<U8'), array(['5'], dtype='<U8'), array(['5'], dtype='<U8'), array(['2'], dtype='<U8'), array(['5'], dtype='<U8'), array(['5'], dtype='<U8'), array(['5'], dtype='<U8'), array(['5'], dtype='<U8'), array(['5'], dtype='<U8'), array(['5'], dtype='<U8'), array(['5'], dtype='<U8'), array(['5'], dtype='<U8'), array(['5'], dtype='<U8'), array(['5'], dtype='<U8'), array(['negative'], dtype='<U8'), array(['5'], dtype='<U8'), array(['5'], dtype='<U8'), array(['5'], dtype='<U8'), array(['5'], dtype='<U8'), array(['2'], dtype='<U8'), array(['5'], dtype='<U8'), array(['5'], dtype='<U8'), array(['5'], dtype='<U8'), array(['5'], dtype='<U8'), array(['5'], dtype='<U8'), array(['5'], dtype='<U8'), array(['5'], dtype='<U8'), array(['5'], dtype='<U8'), array(['5'], dtype='<U8'), array(['5'], dtype='<U8'), array(['5'], dtype='<U8'), array(['5'], dtype='<U8'), array(['5'], dtype='<U8'), array(['5'], dtype='<U8'), array(['5'], dtype='<U8'), array(['2'], dtype='<U8'), array(['5'], dtype='<U8'), array(['5'], dtype='<U8'), array(['5'], dtype='<U8'), array(['5'], dtype='<U8'), array(['5'], dtype='<U8'), array(['2'], dtype='<U8'), array(['2'], dtype='<U8'), array(['5'], dtype='<U8'), array(['2'], dtype='<U8'), array(['5'], dtype='<U8'), array(['5'], dtype='<U8'), array(['5'], dtype='<U8'), array(['5'], dtype='<U8'), array(['5'], dtype='<U8'), array(['5'], dtype='<U8'), array(['5'], dtype='<U8'), array(['5'], dtype='<U8'), array(['5'], dtype='<U8'), array(['2'], dtype='<U8'), array(['2'], dtype='<U8'), array(['5'], dtype='<U8'), array(['5'], dtype='<U8'), array(['5'], dtype='<U8'), array(['5'], dtype='<U8'), array(['5'], dtype='<U8'), array(['2'], dtype='<U8'), array(['5'], dtype='<U8'), array(['5'], dtype='<U8'), array(['5'], dtype='<U8'), array(['negative'], dtype='<U8'), array(['negative'], dtype='<U8'), array(['negative'], dtype='<U8'), array(['negative'], dtype='<U8'), array(['negative'], dtype='<U8'), array(['negative'], dtype='<U8'), array(['negative'], dtype='<U8'), array(['negative'], dtype='<U8'), array(['negative'], dtype='<U8'), array(['negative'], dtype='<U8'), array(['negative'], dtype='<U8'), array(['negative'], dtype='<U8'), array(['negative'], dtype='<U8'), array(['negative'], dtype='<U8'), array(['negative'], dtype='<U8'), array(['negative'], dtype='<U8'), array(['negative'], dtype='<U8'), array(['negative'], dtype='<U8'), array(['negative'], dtype='<U8'), array(['negative'], dtype='<U8'), array(['negative'], dtype='<U8'), array(['negative'], dtype='<U8'), array(['negative'], dtype='<U8'), array(['negative'], dtype='<U8'), array(['zero'], dtype='<U8'), array(['negative'], dtype='<U8'), array(['zero'], dtype='<U8'), array(['zero'], dtype='<U8'), array(['zero'], dtype='<U8'), array(['zero'], dtype='<U8'), array(['zero'], dtype='<U8'), array(['zero'], dtype='<U8'), array(['zero'], dtype='<U8'), array(['2'], dtype='<U8'), array(['zero'], dtype='<U8'), array(['zero'], dtype='<U8'), array(['negative'], dtype='<U8'), array(['negative'], dtype='<U8'), array(['negative'], dtype='<U8'), array(['negative'], dtype='<U8'), array(['negative'], dtype='<U8'), array(['negative'], dtype='<U8'), array(['negative'], dtype='<U8'), array(['negative'], dtype='<U8'), array(['negative'], dtype='<U8'), array(['negative'], dtype='<U8'), array(['negative'], dtype='<U8'), array(['negative'], dtype='<U8'), array(['negative'], dtype='<U8'), array(['negative'], dtype='<U8'), array(['negative'], dtype='<U8'), array(['negative'], dtype='<U8'), array(['negative'], dtype='<U8'), array(['negative'], dtype='<U8'), array(['negative'], dtype='<U8'), array(['negative'], dtype='<U8'), array(['negative'], dtype='<U8'), array(['negative'], dtype='<U8'), array(['negative'], dtype='<U8'), array(['negative'], dtype='<U8'), array(['negative'], dtype='<U8'), array(['negative'], dtype='<U8'), array(['zero'], dtype='<U8'), array(['zero'], dtype='<U8'), array(['zero'], dtype='<U8'), array(['zero'], dtype='<U8'), array(['negative'], dtype='<U8'), array(['zero'], dtype='<U8'), array(['2'], dtype='<U8'), array(['2'], dtype='<U8'), array(['negative'], dtype='<U8'), array(['negative'], dtype='<U8')]\n"
     ]
    }
   ],
   "source": [
    "for filename in glob.glob('test_resize/negetive/*.png'):\n",
    "    frame = cv2.imread(filename)\n",
    "    frame = cv2.resize(frame, (331,331))\n",
    "    x = np.expand_dims(frame, axis=0)\n",
    "    x = preprocess_input(x)\n",
    "    feature = model.predict(x)\n",
    "    feature = np.reshape(feature, (-1,4032))\n",
    "    text = neigh.predict(feature)\n",
    "    mylist.append(text)\n",
    "print(mylist)"
   ]
  },
  {
   "cell_type": "code",
   "execution_count": 11,
   "metadata": {},
   "outputs": [
    {
     "name": "stdout",
     "output_type": "stream",
     "text": [
      "206\n"
     ]
    }
   ],
   "source": [
    "print(len(mylist))"
   ]
  },
  {
   "cell_type": "code",
   "execution_count": 12,
   "metadata": {
    "scrolled": true
   },
   "outputs": [
    {
     "name": "stdout",
     "output_type": "stream",
     "text": [
      "[array(['2'], dtype='<U8'), array(['2'], dtype='<U8'), array(['zero'], dtype='<U8'), array(['5'], dtype='<U8'), array(['5'], dtype='<U8'), array(['5'], dtype='<U8'), array(['5'], dtype='<U8'), array(['5'], dtype='<U8'), array(['zero'], dtype='<U8'), array(['zero'], dtype='<U8'), array(['zero'], dtype='<U8'), array(['zero'], dtype='<U8'), array(['2'], dtype='<U8'), array(['2'], dtype='<U8'), array(['2'], dtype='<U8'), array(['2'], dtype='<U8'), array(['5'], dtype='<U8'), array(['2'], dtype='<U8'), array(['5'], dtype='<U8'), array(['5'], dtype='<U8'), array(['5'], dtype='<U8'), array(['zero'], dtype='<U8'), array(['5'], dtype='<U8'), array(['5'], dtype='<U8'), array(['zero'], dtype='<U8'), array(['5'], dtype='<U8'), array(['5'], dtype='<U8'), array(['5'], dtype='<U8'), array(['5'], dtype='<U8'), array(['5'], dtype='<U8'), array(['5'], dtype='<U8'), array(['5'], dtype='<U8'), array(['5'], dtype='<U8'), array(['2'], dtype='<U8'), array(['2'], dtype='<U8'), array(['zero'], dtype='<U8'), array(['2'], dtype='<U8'), array(['2'], dtype='<U8'), array(['2'], dtype='<U8'), array(['2'], dtype='<U8'), array(['2'], dtype='<U8'), array(['2'], dtype='<U8'), array(['2'], dtype='<U8'), array(['5'], dtype='<U8'), array(['2'], dtype='<U8'), array(['2'], dtype='<U8'), array(['5'], dtype='<U8'), array(['5'], dtype='<U8'), array(['5'], dtype='<U8'), array(['5'], dtype='<U8'), array(['5'], dtype='<U8'), array(['5'], dtype='<U8'), array(['5'], dtype='<U8'), array(['5'], dtype='<U8'), array(['5'], dtype='<U8'), array(['5'], dtype='<U8'), array(['2'], dtype='<U8'), array(['5'], dtype='<U8'), array(['5'], dtype='<U8'), array(['5'], dtype='<U8'), array(['5'], dtype='<U8'), array(['5'], dtype='<U8'), array(['5'], dtype='<U8'), array(['5'], dtype='<U8'), array(['5'], dtype='<U8'), array(['5'], dtype='<U8'), array(['5'], dtype='<U8'), array(['5'], dtype='<U8'), array(['5'], dtype='<U8'), array(['negative'], dtype='<U8'), array(['5'], dtype='<U8'), array(['5'], dtype='<U8'), array(['2'], dtype='<U8'), array(['5'], dtype='<U8'), array(['5'], dtype='<U8'), array(['5'], dtype='<U8'), array(['5'], dtype='<U8'), array(['5'], dtype='<U8'), array(['5'], dtype='<U8'), array(['5'], dtype='<U8'), array(['5'], dtype='<U8'), array(['5'], dtype='<U8'), array(['5'], dtype='<U8'), array(['negative'], dtype='<U8'), array(['5'], dtype='<U8'), array(['5'], dtype='<U8'), array(['5'], dtype='<U8'), array(['5'], dtype='<U8'), array(['2'], dtype='<U8'), array(['5'], dtype='<U8'), array(['5'], dtype='<U8'), array(['5'], dtype='<U8'), array(['5'], dtype='<U8'), array(['5'], dtype='<U8'), array(['5'], dtype='<U8'), array(['5'], dtype='<U8'), array(['5'], dtype='<U8'), array(['5'], dtype='<U8'), array(['5'], dtype='<U8'), array(['5'], dtype='<U8'), array(['5'], dtype='<U8'), array(['5'], dtype='<U8'), array(['5'], dtype='<U8'), array(['5'], dtype='<U8'), array(['2'], dtype='<U8'), array(['5'], dtype='<U8'), array(['5'], dtype='<U8'), array(['5'], dtype='<U8'), array(['5'], dtype='<U8'), array(['5'], dtype='<U8'), array(['2'], dtype='<U8'), array(['2'], dtype='<U8'), array(['5'], dtype='<U8'), array(['2'], dtype='<U8'), array(['5'], dtype='<U8'), array(['5'], dtype='<U8'), array(['5'], dtype='<U8'), array(['5'], dtype='<U8'), array(['5'], dtype='<U8'), array(['5'], dtype='<U8'), array(['5'], dtype='<U8'), array(['5'], dtype='<U8'), array(['5'], dtype='<U8'), array(['2'], dtype='<U8'), array(['2'], dtype='<U8'), array(['5'], dtype='<U8'), array(['5'], dtype='<U8'), array(['5'], dtype='<U8'), array(['5'], dtype='<U8'), array(['5'], dtype='<U8'), array(['2'], dtype='<U8'), array(['5'], dtype='<U8'), array(['5'], dtype='<U8'), array(['5'], dtype='<U8'), array(['negative'], dtype='<U8'), array(['negative'], dtype='<U8'), array(['negative'], dtype='<U8'), array(['negative'], dtype='<U8'), array(['negative'], dtype='<U8'), array(['negative'], dtype='<U8'), array(['negative'], dtype='<U8'), array(['negative'], dtype='<U8'), array(['negative'], dtype='<U8'), array(['negative'], dtype='<U8'), array(['negative'], dtype='<U8'), array(['negative'], dtype='<U8'), array(['negative'], dtype='<U8'), array(['negative'], dtype='<U8'), array(['negative'], dtype='<U8'), array(['negative'], dtype='<U8'), array(['negative'], dtype='<U8'), array(['negative'], dtype='<U8'), array(['negative'], dtype='<U8'), array(['negative'], dtype='<U8'), array(['negative'], dtype='<U8'), array(['negative'], dtype='<U8'), array(['negative'], dtype='<U8'), array(['negative'], dtype='<U8'), array(['zero'], dtype='<U8'), array(['negative'], dtype='<U8'), array(['zero'], dtype='<U8'), array(['zero'], dtype='<U8'), array(['zero'], dtype='<U8'), array(['zero'], dtype='<U8'), array(['zero'], dtype='<U8'), array(['zero'], dtype='<U8'), array(['zero'], dtype='<U8'), array(['2'], dtype='<U8'), array(['zero'], dtype='<U8'), array(['zero'], dtype='<U8'), array(['negative'], dtype='<U8'), array(['negative'], dtype='<U8'), array(['negative'], dtype='<U8'), array(['negative'], dtype='<U8'), array(['negative'], dtype='<U8'), array(['negative'], dtype='<U8'), array(['negative'], dtype='<U8'), array(['negative'], dtype='<U8'), array(['negative'], dtype='<U8'), array(['negative'], dtype='<U8'), array(['negative'], dtype='<U8'), array(['negative'], dtype='<U8'), array(['negative'], dtype='<U8'), array(['negative'], dtype='<U8'), array(['negative'], dtype='<U8'), array(['negative'], dtype='<U8'), array(['negative'], dtype='<U8'), array(['negative'], dtype='<U8'), array(['negative'], dtype='<U8'), array(['negative'], dtype='<U8'), array(['negative'], dtype='<U8'), array(['negative'], dtype='<U8'), array(['negative'], dtype='<U8'), array(['negative'], dtype='<U8'), array(['negative'], dtype='<U8'), array(['negative'], dtype='<U8'), array(['zero'], dtype='<U8'), array(['zero'], dtype='<U8'), array(['zero'], dtype='<U8'), array(['zero'], dtype='<U8'), array(['negative'], dtype='<U8'), array(['zero'], dtype='<U8'), array(['2'], dtype='<U8'), array(['2'], dtype='<U8'), array(['negative'], dtype='<U8'), array(['negative'], dtype='<U8'), array(['zero'], dtype='<U8'), array(['zero'], dtype='<U8'), array(['zero'], dtype='<U8'), array(['zero'], dtype='<U8'), array(['zero'], dtype='<U8'), array(['zero'], dtype='<U8'), array(['zero'], dtype='<U8'), array(['zero'], dtype='<U8'), array(['zero'], dtype='<U8'), array(['zero'], dtype='<U8'), array(['zero'], dtype='<U8'), array(['zero'], dtype='<U8'), array(['zero'], dtype='<U8'), array(['zero'], dtype='<U8'), array(['zero'], dtype='<U8'), array(['zero'], dtype='<U8'), array(['zero'], dtype='<U8'), array(['zero'], dtype='<U8'), array(['zero'], dtype='<U8'), array(['zero'], dtype='<U8'), array(['zero'], dtype='<U8'), array(['zero'], dtype='<U8'), array(['zero'], dtype='<U8'), array(['zero'], dtype='<U8'), array(['zero'], dtype='<U8'), array(['zero'], dtype='<U8'), array(['zero'], dtype='<U8'), array(['zero'], dtype='<U8'), array(['zero'], dtype='<U8'), array(['zero'], dtype='<U8'), array(['zero'], dtype='<U8'), array(['zero'], dtype='<U8'), array(['zero'], dtype='<U8'), array(['zero'], dtype='<U8'), array(['zero'], dtype='<U8'), array(['zero'], dtype='<U8'), array(['zero'], dtype='<U8'), array(['zero'], dtype='<U8'), array(['zero'], dtype='<U8'), array(['zero'], dtype='<U8'), array(['zero'], dtype='<U8'), array(['zero'], dtype='<U8'), array(['zero'], dtype='<U8'), array(['zero'], dtype='<U8'), array(['zero'], dtype='<U8'), array(['zero'], dtype='<U8'), array(['zero'], dtype='<U8'), array(['zero'], dtype='<U8'), array(['zero'], dtype='<U8'), array(['zero'], dtype='<U8'), array(['zero'], dtype='<U8'), array(['zero'], dtype='<U8'), array(['zero'], dtype='<U8'), array(['zero'], dtype='<U8'), array(['zero'], dtype='<U8'), array(['zero'], dtype='<U8'), array(['zero'], dtype='<U8'), array(['zero'], dtype='<U8'), array(['zero'], dtype='<U8'), array(['5'], dtype='<U8'), array(['zero'], dtype='<U8'), array(['zero'], dtype='<U8'), array(['zero'], dtype='<U8'), array(['5'], dtype='<U8'), array(['zero'], dtype='<U8'), array(['5'], dtype='<U8'), array(['5'], dtype='<U8'), array(['zero'], dtype='<U8'), array(['5'], dtype='<U8'), array(['zero'], dtype='<U8'), array(['zero'], dtype='<U8'), array(['zero'], dtype='<U8'), array(['zero'], dtype='<U8'), array(['zero'], dtype='<U8'), array(['zero'], dtype='<U8'), array(['zero'], dtype='<U8'), array(['zero'], dtype='<U8'), array(['zero'], dtype='<U8'), array(['zero'], dtype='<U8'), array(['zero'], dtype='<U8'), array(['zero'], dtype='<U8'), array(['zero'], dtype='<U8'), array(['zero'], dtype='<U8'), array(['zero'], dtype='<U8'), array(['zero'], dtype='<U8'), array(['zero'], dtype='<U8'), array(['zero'], dtype='<U8'), array(['zero'], dtype='<U8'), array(['zero'], dtype='<U8'), array(['zero'], dtype='<U8'), array(['zero'], dtype='<U8'), array(['zero'], dtype='<U8'), array(['zero'], dtype='<U8'), array(['zero'], dtype='<U8'), array(['zero'], dtype='<U8'), array(['zero'], dtype='<U8'), array(['zero'], dtype='<U8'), array(['zero'], dtype='<U8'), array(['zero'], dtype='<U8'), array(['zero'], dtype='<U8'), array(['zero'], dtype='<U8'), array(['zero'], dtype='<U8'), array(['zero'], dtype='<U8'), array(['zero'], dtype='<U8'), array(['zero'], dtype='<U8'), array(['zero'], dtype='<U8'), array(['zero'], dtype='<U8'), array(['zero'], dtype='<U8'), array(['zero'], dtype='<U8'), array(['zero'], dtype='<U8'), array(['2'], dtype='<U8'), array(['zero'], dtype='<U8'), array(['zero'], dtype='<U8'), array(['zero'], dtype='<U8'), array(['zero'], dtype='<U8'), array(['zero'], dtype='<U8'), array(['zero'], dtype='<U8'), array(['zero'], dtype='<U8'), array(['zero'], dtype='<U8')]\n"
     ]
    }
   ],
   "source": [
    "for filename in glob.glob('test_resize/zero/*.png'):\n",
    "    frame = cv2.imread(filename)\n",
    "    frame = cv2.resize(frame, (331,331))\n",
    "    x = np.expand_dims(frame, axis=0)\n",
    "    x = preprocess_input(x)\n",
    "    feature = model.predict(x)\n",
    "    feature = np.reshape(feature, (-1,4032))\n",
    "    text = neigh.predict(feature)\n",
    "    mylist.append(text)\n",
    "print(mylist)"
   ]
  },
  {
   "cell_type": "code",
   "execution_count": 13,
   "metadata": {},
   "outputs": [],
   "source": [
    "a2 = np.array(mylist)"
   ]
  },
  {
   "cell_type": "code",
   "execution_count": 14,
   "metadata": {},
   "outputs": [
    {
     "name": "stdout",
     "output_type": "stream",
     "text": [
      "325\n"
     ]
    }
   ],
   "source": [
    "print(len(a2))"
   ]
  },
  {
   "cell_type": "code",
   "execution_count": 17,
   "metadata": {},
   "outputs": [],
   "source": [
    "with open('predict','wb') as f:\n",
    "    pickle.dump(mylist, f)   "
   ]
  },
  {
   "cell_type": "code",
   "execution_count": 16,
   "metadata": {},
   "outputs": [
    {
     "data": {
      "text/plain": [
       "array([[ 19,  42,   0,   0,   8],\n",
       "       [  9,  54,   2,   0,   0],\n",
       "       [  0,   0,   0,   0,   0],\n",
       "       [  3,   0,  54,   0,  15],\n",
       "       [  1,   5,   0,   0, 113]], dtype=int64)"
      ]
     },
     "execution_count": 16,
     "metadata": {},
     "output_type": "execute_result"
    }
   ],
   "source": [
    "confusion_matrix(test_labels, a2)"
   ]
  },
  {
   "cell_type": "code",
   "execution_count": 57,
   "metadata": {},
   "outputs": [
    {
     "name": "stderr",
     "output_type": "stream",
     "text": [
      "C:\\Users\\labkhand\\Anaconda3\\lib\\site-packages\\sklearn\\metrics\\classification.py:1143: UndefinedMetricWarning: Precision is ill-defined and being set to 0.0 in labels with no predicted samples.\n",
      "  'precision', 'predicted', average, warn_for)\n"
     ]
    },
    {
     "data": {
      "text/plain": [
       "array([0.59375   , 0.53465347, 0.        , 0.        , 0.83088235])"
      ]
     },
     "execution_count": 57,
     "metadata": {},
     "output_type": "execute_result"
    }
   ],
   "source": [
    "from sklearn.metrics import precision_score\n",
    "precision_score(test_labels, a2, average=None)  "
   ]
  },
  {
   "cell_type": "code",
   "execution_count": 58,
   "metadata": {},
   "outputs": [
    {
     "name": "stderr",
     "output_type": "stream",
     "text": [
      "C:\\Users\\labkhand\\Anaconda3\\lib\\site-packages\\sklearn\\metrics\\classification.py:1145: UndefinedMetricWarning: Recall is ill-defined and being set to 0.0 in labels with no true samples.\n",
      "  'recall', 'true', average, warn_for)\n"
     ]
    },
    {
     "data": {
      "text/plain": [
       "0.41114227630851674"
      ]
     },
     "execution_count": 58,
     "metadata": {},
     "output_type": "execute_result"
    }
   ],
   "source": [
    "from sklearn.metrics import recall_score\n",
    "recall_score(test_labels, a2, average='macro') "
   ]
  },
  {
   "cell_type": "code",
   "execution_count": null,
   "metadata": {},
   "outputs": [],
   "source": []
  }
 ],
 "metadata": {
  "kernelspec": {
   "display_name": "Python 3",
   "language": "python",
   "name": "python3"
  },
  "language_info": {
   "codemirror_mode": {
    "name": "ipython",
    "version": 3
   },
   "file_extension": ".py",
   "mimetype": "text/x-python",
   "name": "python",
   "nbconvert_exporter": "python",
   "pygments_lexer": "ipython3",
   "version": "3.6.7"
  }
 },
 "nbformat": 4,
 "nbformat_minor": 2
}
