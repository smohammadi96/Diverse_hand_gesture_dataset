{
 "cells": [
  {
   "cell_type": "code",
   "execution_count": 15,
   "metadata": {},
   "outputs": [],
   "source": [
    "file =[]\n",
    "import pickle\n",
    "file = open(\"./final_pickle/resnet50_before_softmax_final\", \"rb\")\n",
    "train = pickle.load(file)\n",
    "file.close()"
   ]
  },
  {
   "cell_type": "code",
   "execution_count": 16,
   "metadata": {},
   "outputs": [],
   "source": [
    "import pickle\n",
    "file3 = open(\"./final_pickle/labels_final\", \"rb\")\n",
    "y_train = pickle.load(file3)\n",
    "file3.close()"
   ]
  },
  {
   "cell_type": "code",
   "execution_count": 17,
   "metadata": {},
   "outputs": [
    {
     "name": "stdout",
     "output_type": "stream",
     "text": [
      "600\n",
      "1200\n",
      "1800\n",
      "2400\n",
      "3000\n",
      "3600\n",
      "4200\n",
      "4800\n",
      "5400\n",
      "6000\n"
     ]
    }
   ],
   "source": [
    "one=[]\n",
    "two=[]\n",
    "three=[]\n",
    "five=[]\n",
    "dislike=[]\n",
    "exactly=[]\n",
    "left=[]\n",
    "like=[]\n",
    "negative=[]\n",
    "zero=[]\n",
    "one=train[0:800]\n",
    "two=train[800:1600]\n",
    "three=train[1600:2400]\n",
    "five=train[2400:3200]\n",
    "dislike=train[3200:4000]\n",
    "exactly=train[4000:4800]\n",
    "left=train[4800:5600]\n",
    "like=train[5600:6400]\n",
    "negative=train[6400:7200]\n",
    "zero=train[7200:8000]\n",
    "\n",
    "\n",
    "train_t=[]\n",
    "test_t=[]\n",
    "train_t[0:600] = one[0:600]\n",
    "print(len(train_t))\n",
    "train_t[600:1200] = two[0:600]\n",
    "print(len(train_t))\n",
    "train_t[1200:1800] = three[0:600]\n",
    "print(len(train_t))\n",
    "train_t[1800:2400] = five[0:600]\n",
    "print(len(train_t))\n",
    "train_t[2400:3000] = dislike[0:600]\n",
    "print(len(train_t))\n",
    "train_t[3000:3600] = exactly[0:600]\n",
    "print(len(train_t))\n",
    "train_t[3600:4200] = left[0:600]\n",
    "print(len(train_t))\n",
    "train_t[4200:4800] = like[0:600]\n",
    "print(len(train_t))\n",
    "train_t[4800:5400] = negative[0:600]\n",
    "print(len(train_t))\n",
    "train_t[5400:6000] = zero[0:600]\n",
    "print(len(train_t))"
   ]
  },
  {
   "cell_type": "code",
   "execution_count": 18,
   "metadata": {},
   "outputs": [
    {
     "name": "stdout",
     "output_type": "stream",
     "text": [
      "200\n",
      "400\n",
      "600\n",
      "800\n",
      "1000\n",
      "1200\n",
      "1400\n",
      "1600\n",
      "1800\n",
      "2000\n"
     ]
    }
   ],
   "source": [
    "test_t=[]\n",
    "test_t[0:200] = one[600:800]\n",
    "print(len(test_t))\n",
    "test_t[200:400] = two[600:800]\n",
    "print(len(test_t))\n",
    "test_t[400:600] = three[600:800]\n",
    "print(len(test_t))\n",
    "test_t[600:800] = five[600:800]\n",
    "print(len(test_t))\n",
    "test_t[800:1000] = dislike[600:800]\n",
    "print(len(test_t))\n",
    "test_t[1000:1200] = exactly[600:800]\n",
    "print(len(test_t))\n",
    "test_t[1200:1400] = left[600:800]\n",
    "print(len(test_t))\n",
    "test_t[1400:1600] = like[600:800]\n",
    "print(len(test_t))\n",
    "test_t[1600:1800] = negative[600:800]\n",
    "print(len(test_t))\n",
    "test_t[1800:2000] = zero[600:800]\n",
    "print(len(test_t))"
   ]
  },
  {
   "cell_type": "code",
   "execution_count": 19,
   "metadata": {},
   "outputs": [
    {
     "name": "stdout",
     "output_type": "stream",
     "text": [
      "600\n",
      "1200\n",
      "1800\n",
      "2400\n",
      "3000\n",
      "3600\n",
      "4200\n",
      "4800\n",
      "5400\n",
      "6000\n"
     ]
    }
   ],
   "source": [
    "train_y = []\n",
    "train_y[0:600] = y_train[0:600]\n",
    "print(len(train_y))\n",
    "train_y[600:1200] = y_train[800:1400]\n",
    "print(len(train_y))\n",
    "train_y[1200:1800] = y_train[1600:2200]\n",
    "print(len(train_y))\n",
    "train_y[1800:2400] = y_train[2400:3000]\n",
    "print(len(train_y))\n",
    "train_y[2400:3000] = y_train[3200:3800]\n",
    "print(len(train_y))\n",
    "train_y[3000:3600] = y_train[4000:4600]\n",
    "print(len(train_y))\n",
    "train_y[3600:4200] = y_train[4800:5400]\n",
    "print(len(train_y))\n",
    "train_y[4200:4800] = y_train[5600:6200]\n",
    "print(len(train_y))\n",
    "train_y[4800:5400] = y_train[6400:7000]\n",
    "print(len(train_y))\n",
    "train_y[5400:6000] = y_train[7200:7800]\n",
    "print(len(train_y))"
   ]
  },
  {
   "cell_type": "code",
   "execution_count": 20,
   "metadata": {},
   "outputs": [
    {
     "name": "stdout",
     "output_type": "stream",
     "text": [
      "200\n",
      "400\n",
      "600\n",
      "800\n",
      "1000\n",
      "1200\n",
      "1400\n",
      "1600\n",
      "1800\n",
      "2000\n"
     ]
    }
   ],
   "source": [
    "test_y = []\n",
    "test_y[0:600] = y_train[600:800]\n",
    "print(len(test_y))\n",
    "test_y[600:1200] = y_train[1400:1600]\n",
    "print(len(test_y))\n",
    "test_y[1200:1800] = y_train[2200:2400]\n",
    "print(len(test_y))\n",
    "test_y[1800:2400] = y_train[3000:3200]\n",
    "print(len(test_y))\n",
    "test_y[2400:3000] = y_train[3800:4000]\n",
    "print(len(test_y))\n",
    "test_y[3000:3600] = y_train[4600:4800]\n",
    "print(len(test_y))\n",
    "test_y[3600:4200] = y_train[5400:5600]\n",
    "print(len(test_y))\n",
    "test_y[4200:4800] = y_train[6200:6400]\n",
    "print(len(test_y))\n",
    "test_y[4800:5400] = y_train[7000:7200]\n",
    "print(len(test_y))\n",
    "test_y[5400:6000] = y_train[7800:8000]\n",
    "print(len(test_y))"
   ]
  },
  {
   "cell_type": "code",
   "execution_count": 21,
   "metadata": {},
   "outputs": [],
   "source": [
    "from sklearn.impute import SimpleImputer\n",
    "imp = SimpleImputer(strategy=\"most_frequent\")\n",
    "\n",
    "\n",
    "# t = te[0:7000]\n",
    "# test = te[7000:8000]\n",
    "imp.fit_transform(train_t)\n",
    "X_train = imp.transform(train_t)\n",
    "X_test = imp.transform(test_t)\n",
    "\n",
    "from sklearn.preprocessing import StandardScaler\n",
    "scaler = StandardScaler()\n",
    "# Fit on training set only.\n",
    "scaler.fit(X_train)\n",
    "# Apply transform to both the training set and the test set.\n",
    "X_train = scaler.transform(X_train)\n",
    "X_test = scaler.transform(X_test)\n",
    "\n",
    "from sklearn.decomposition import PCA\n",
    "# Make an instance of the Model\n",
    "pca = PCA(.95)\n",
    "\n",
    "model_pca = pca.fit(X_train) \n",
    "\n",
    "X_train = pca.transform(X_train)\n",
    "X_test = pca.transform(X_test)"
   ]
  },
  {
   "cell_type": "code",
   "execution_count": 22,
   "metadata": {},
   "outputs": [
    {
     "name": "stdout",
     "output_type": "stream",
     "text": [
      "(6000, 636)\n",
      "(2000, 636)\n"
     ]
    }
   ],
   "source": [
    "print(X_train.shape)\n",
    "print(X_test.shape)"
   ]
  },
  {
   "cell_type": "code",
   "execution_count": 23,
   "metadata": {},
   "outputs": [],
   "source": [
    "# from sklearn import preprocessing\n",
    "# le = preprocessing.LabelEncoder()\n",
    "# # for i in range(0,7000):\n",
    "# labels = le.fit_transform(tr)\n",
    "# print(labels)"
   ]
  },
  {
   "cell_type": "code",
   "execution_count": 24,
   "metadata": {
    "scrolled": true
   },
   "outputs": [
    {
     "name": "stdout",
     "output_type": "stream",
     "text": [
      "0.9795\n"
     ]
    }
   ],
   "source": [
    "# from sklearn import svm\n",
    "from sklearn.svm import SVC\n",
    "model1 = SVC(kernel='linear', C=75) \n",
    "\n",
    "s = model1.fit(X_train, train_y)\n",
    "\n",
    "score_1 = model1.score(X_test, test_y)\n",
    "print(score_1)"
   ]
  },
  {
   "cell_type": "code",
   "execution_count": 25,
   "metadata": {},
   "outputs": [],
   "source": [
    "# !pip install keras==2.2.4"
   ]
  },
  {
   "cell_type": "code",
   "execution_count": 35,
   "metadata": {},
   "outputs": [],
   "source": [
    "from keras.models import Model\n",
    "from keras.applications import ResNet50\n",
    "from keras.applications.resnet50 import preprocess_input\n",
    "model = ResNet50(weights='imagenet')\n",
    "model = Model(model.inputs, model.layers[-2].output)"
   ]
  },
  {
   "cell_type": "code",
   "execution_count": 27,
   "metadata": {},
   "outputs": [],
   "source": [
    "#cap = cv2.VideoCapture(0)\n",
    "cap.release()"
   ]
  },
  {
   "cell_type": "code",
   "execution_count": 46,
   "metadata": {},
   "outputs": [
    {
     "name": "stdout",
     "output_type": "stream",
     "text": [
      "1\n",
      "2\n",
      "3\n",
      "4\n",
      "5\n",
      "set()\n",
      "6\n",
      "7\n",
      "8\n",
      "9\n",
      "10\n",
      "{\"['exactly']\"}\n",
      "detected exactly\n",
      "11\n",
      "12\n",
      "13\n",
      "14\n",
      "15\n",
      "{\"['negative']\"}\n",
      "16\n",
      "17\n",
      "18\n",
      "19\n",
      "20\n",
      "set()\n",
      "21\n",
      "22\n",
      "23\n",
      "24\n",
      "25\n",
      "{\"['left']\"}\n",
      "26\n",
      "27\n",
      "28\n",
      "29\n",
      "30\n",
      "set()\n",
      "31\n",
      "32\n",
      "33\n",
      "34\n",
      "35\n",
      "{\"['dislike']\"}\n",
      "36\n",
      "37\n",
      "38\n",
      "39\n",
      "40\n",
      "set()\n",
      "41\n",
      "42\n",
      "43\n",
      "44\n",
      "45\n",
      "set()\n",
      "46\n",
      "47\n",
      "48\n",
      "49\n",
      "50\n",
      "{\"['exactly']\"}\n",
      "detected exactly\n",
      "51\n",
      "52\n",
      "53\n",
      "54\n",
      "55\n",
      "{\"['exactly']\"}\n",
      "detected exactly\n",
      "56\n",
      "57\n",
      "58\n",
      "59\n",
      "60\n",
      "{\"['negative']\"}\n",
      "61\n",
      "62\n",
      "63\n",
      "64\n",
      "65\n",
      "{\"['exactly']\"}\n",
      "detected exactly\n",
      "66\n",
      "67\n",
      "68\n",
      "69\n",
      "70\n",
      "{\"['negative']\"}\n",
      "71\n",
      "72\n",
      "73\n",
      "74\n",
      "75\n",
      "{\"['5']\"}\n",
      "76\n",
      "77\n",
      "78\n"
     ]
    }
   ],
   "source": [
    "import cv2\n",
    "import numpy as np\n",
    "import webbrowser\n",
    "from subprocess import call\n",
    "a_website = \"https://www.google.com\"\n",
    "\n",
    "cap = cv2.VideoCapture(0)\n",
    "fourcc = cv2.VideoWriter_fourcc(*'XVID')\n",
    "out = cv2.VideoWriter('output4.avi',fourcc, 20.0, (224,224))\n",
    "predict =[]\n",
    "totalFrames = 0\n",
    "while True:\n",
    "    ret, frame = cap.read()\n",
    "#     frame = cv2.cvtColor(frame, cv2.COLOR_BGR2RGB)\n",
    "    if ret==True:\n",
    "        totalFrames = totalFrames + 1\n",
    "        frame = cv2.resize(frame, (224, 224))\n",
    "        x = np.expand_dims(frame, axis=0)\n",
    "        x = x.astype(np.float32)\n",
    "        x = preprocess_input(x)\n",
    "        feature = model.predict(x) # model --> pretrained model resnet50\n",
    "        temp = scaler.transform(feature)\n",
    "        temp_pca = pca.transform(temp)\n",
    "        predicted = model1.predict(temp_pca) # model1 --> classifier fit \n",
    "        predict.append(str(predicted))\n",
    "        print(len(predict))\n",
    "        if len(predict) % 5 == 0:\n",
    "            new1 =[]\n",
    "            for i in range(len(predict) - 5 , len(predict)):\n",
    "                new1.append(predict[i])\n",
    "            a = set([x for x in new1 if new1.count(x) >= 3])\n",
    "            print(a)\n",
    "            if a == {\"['exactly']\"}:\n",
    "                print(\"detected exactly\")\n",
    "                webbrowser.open_new(a_website)\n",
    "                \n",
    "            if a =={\"['5']\"}:\n",
    "                call([\"calc.exe\"])\n",
    "                \n",
    "            if a =={\"['dislike']\"}:\n",
    "                call([\"notepad.exe\"])\n",
    "                \n",
    "            if a =={\"['left']\"}:\n",
    "                call([\"notepad.exe\"]) \n",
    "                \n",
    "          \n",
    "                \n",
    "            if(a):\n",
    "                cv2.putText(frame, str(a) , (30, 30), cv2.FONT_HERSHEY_SIMPLEX, 1.0, (0, 0, 255), lineType=cv2.LINE_AA)\n",
    "        out.write(frame)\n",
    "        cv2.imshow('Webcam', frame)\n",
    "        if cv2.waitKey(1) == 13: #13 is the Enter Key\n",
    "            break\n",
    "    else:\n",
    "        break\n",
    "out.release()\n",
    "cap.release()\n",
    "cv2.destroyAllWindows() \n",
    "# C:\\Windows\\System32"
   ]
  },
  {
   "cell_type": "code",
   "execution_count": 17,
   "metadata": {},
   "outputs": [
    {
     "name": "stdout",
     "output_type": "stream",
     "text": [
      "tick\n",
      "tick\n"
     ]
    },
    {
     "ename": "KeyboardInterrupt",
     "evalue": "",
     "output_type": "error",
     "traceback": [
      "\u001b[1;31m---------------------------------------------------------------------------\u001b[0m",
      "\u001b[1;31mKeyboardInterrupt\u001b[0m                         Traceback (most recent call last)",
      "\u001b[1;32m<ipython-input-17-174f1308b8ed>\u001b[0m in \u001b[0;36m<module>\u001b[1;34m\u001b[0m\n\u001b[0;32m      3\u001b[0m \u001b[1;32mwhile\u001b[0m \u001b[1;32mTrue\u001b[0m\u001b[1;33m:\u001b[0m\u001b[1;33m\u001b[0m\u001b[1;33m\u001b[0m\u001b[0m\n\u001b[0;32m      4\u001b[0m   \u001b[0mprint\u001b[0m\u001b[1;33m(\u001b[0m\u001b[1;34m\"tick\"\u001b[0m\u001b[1;33m)\u001b[0m\u001b[1;33m\u001b[0m\u001b[1;33m\u001b[0m\u001b[0m\n\u001b[1;32m----> 5\u001b[1;33m   \u001b[0mtime\u001b[0m\u001b[1;33m.\u001b[0m\u001b[0msleep\u001b[0m\u001b[1;33m(\u001b[0m\u001b[1;36m60.0\u001b[0m \u001b[1;33m-\u001b[0m \u001b[1;33m(\u001b[0m\u001b[1;33m(\u001b[0m\u001b[0mtime\u001b[0m\u001b[1;33m.\u001b[0m\u001b[0mtime\u001b[0m\u001b[1;33m(\u001b[0m\u001b[1;33m)\u001b[0m \u001b[1;33m-\u001b[0m \u001b[0mstarttime\u001b[0m\u001b[1;33m)\u001b[0m \u001b[1;33m%\u001b[0m \u001b[1;36m60.0\u001b[0m\u001b[1;33m)\u001b[0m\u001b[1;33m)\u001b[0m\u001b[1;33m\u001b[0m\u001b[1;33m\u001b[0m\u001b[0m\n\u001b[0m",
      "\u001b[1;31mKeyboardInterrupt\u001b[0m: "
     ]
    }
   ],
   "source": [
    "import time\n",
    "starttime=time.time()\n",
    "while True:\n",
    "  print(\"tick\")\n",
    "  time.sleep(60.0 - ((time.time() - starttime) % 60.0))"
   ]
  },
  {
   "cell_type": "code",
   "execution_count": 76,
   "metadata": {},
   "outputs": [
    {
     "name": "stdout",
     "output_type": "stream",
     "text": [
      "<class 'list'>\n"
     ]
    }
   ],
   "source": [
    "new = [\"s\",\"s\",\"s\",\"s\",\"s\",\"a\",\"s\",\"s\"]\n",
    "\n",
    "for i in range(len(l) - 5 , len(l)):\n",
    "    new.append(l[i])\n",
    "a = set([x for x in new if new.count(x) >1])\n",
    "print (type(new))\n"
   ]
  },
  {
   "cell_type": "code",
   "execution_count": 100,
   "metadata": {},
   "outputs": [
    {
     "name": "stdout",
     "output_type": "stream",
     "text": [
      "8000\n"
     ]
    }
   ],
   "source": [
    "my_test_fold = []\n",
    "\n",
    "train_x = 600\n",
    "test_x = 200\n",
    "\n",
    "for i in range(train_x):\n",
    "    my_test_fold.append(-1)\n",
    "for i in range(test_x):\n",
    "    my_test_fold.append(0)\n",
    "for i in range(train_x):\n",
    "    my_test_fold.append(-1)\n",
    "for i in range(test_x):\n",
    "    my_test_fold.append(0)\n",
    "for i in range(train_x):\n",
    "    my_test_fold.append(-1)\n",
    "for i in range(test_x):\n",
    "    my_test_fold.append(0)\n",
    "for i in range(train_x):\n",
    "    my_test_fold.append(-1)\n",
    "for i in range(test_x):\n",
    "    my_test_fold.append(0)\n",
    "for i in range(train_x):\n",
    "    my_test_fold.append(-1)\n",
    "for i in range(test_x):\n",
    "    my_test_fold.append(0)\n",
    "for i in range(train_x):\n",
    "    my_test_fold.append(-1)\n",
    "for i in range(test_x):\n",
    "    my_test_fold.append(0)\n",
    "for i in range(train_x):\n",
    "    my_test_fold.append(-1)\n",
    "for i in range(test_x):\n",
    "    my_test_fold.append(0)\n",
    "for i in range(train_x):\n",
    "    my_test_fold.append(-1)\n",
    "for i in range(test_x):\n",
    "    my_test_fold.append(0)   \n",
    "for i in range(train_x):\n",
    "    my_test_fold.append(-1)\n",
    "for i in range(test_x):\n",
    "    my_test_fold.append(0)\n",
    "for i in range(train_x):\n",
    "    my_test_fold.append(-1)\n",
    "for i in range(test_x):\n",
    "    my_test_fold.append(0)\n",
    "print(len(my_test_fold))"
   ]
  },
  {
   "cell_type": "code",
   "execution_count": 61,
   "metadata": {},
   "outputs": [
    {
     "name": "stdout",
     "output_type": "stream",
     "text": [
      "[5]\n"
     ]
    }
   ],
   "source": [
    "a = [1,2,3,2,1,5,6,5,5,5]\n",
    "d = {}\n",
    "for elem in a:\n",
    "    if elem in d:\n",
    "        d[elem] += 1\n",
    "    else:\n",
    "        d[elem] = 1\n",
    "\n",
    "print( [x for x, y in d.items() if y > 2])"
   ]
  },
  {
   "cell_type": "code",
   "execution_count": 101,
   "metadata": {},
   "outputs": [],
   "source": [
    "def grid_svm(feature, label):\n",
    "    parameters = {'kernel':('linear', 'rbf'),'C':[1,10]}\n",
    "    svc = svm.SVC(gamma=\"scale\")\n",
    "    grid = GridSearchCV(svc, parameters, cv=PredefinedSplit(test_fold=my_test_fold), n_jobs=-2)\n",
    "    grid.fit(feature, label)\n",
    "    print(\"The best parameters are %s with a score of %0.2f\"\n",
    "          % (grid.best_params_, grid.best_score_))"
   ]
  },
  {
   "cell_type": "code",
   "execution_count": null,
   "metadata": {},
   "outputs": [],
   "source": [
    "from sklearn import svm\n",
    "from sklearn.model_selection import GridSearchCV\n",
    "from sklearn.model_selection import PredefinedSplit\n",
    "import numpy as np\n",
    "import pickle\n",
    "# from data_utils import get_labels, get_feature_files, get_feature_b\n",
    "\n",
    "# label = get_labels()\n",
    "# print(len(label))\n",
    "# feature_files = get_feature_files()\n",
    "# feature = m\n",
    "# for file_name in feature_files:\n",
    "#     print(\"\\n************************\\n\")\n",
    "#     print(file_name)\n",
    "#     feature = get_feature_by_name(file_name)\n",
    "#     print(feature.shape)\n",
    "# feature = feature.reshape(8000,-1) #1175 samples\n",
    "grid_svm(train, y_train)"
   ]
  },
  {
   "cell_type": "code",
   "execution_count": null,
   "metadata": {},
   "outputs": [],
   "source": []
  }
 ],
 "metadata": {
  "kernelspec": {
   "display_name": "Python 3 (ipykernel)",
   "language": "python",
   "name": "python3"
  },
  "language_info": {
   "codemirror_mode": {
    "name": "ipython",
    "version": 3
   },
   "file_extension": ".py",
   "mimetype": "text/x-python",
   "name": "python",
   "nbconvert_exporter": "python",
   "pygments_lexer": "ipython3",
   "version": "3.8.1"
  }
 },
 "nbformat": 4,
 "nbformat_minor": 2
}
